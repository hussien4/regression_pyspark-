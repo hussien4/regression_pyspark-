{
  "cells": [
    {
      "cell_type": "markdown",
      "metadata": {
        "id": "CzvLWc5_01St"
      },
      "source": [
        "# Run the model for Block 34"
      ]
    },
    {
      "cell_type": "code",
      "execution_count": null,
      "metadata": {
        "colab": {
          "base_uri": "https://localhost:8080/"
        },
        "id": "P58Sn7T3BWDe",
        "outputId": "e710f0d2-fd51-4eab-ddae-d52f72c44760"
      },
      "outputs": [
        {
          "output_type": "stream",
          "name": "stdout",
          "text": [
            "Hit:1 https://cloud.r-project.org/bin/linux/ubuntu bionic-cran40/ InRelease\n",
            "Hit:2 http://ppa.launchpad.net/c2d4u.team/c2d4u4.0+/ubuntu bionic InRelease\n",
            "Hit:3 http://security.ubuntu.com/ubuntu bionic-security InRelease\n",
            "Ign:4 https://developer.download.nvidia.com/compute/machine-learning/repos/ubuntu1804/x86_64  InRelease\n",
            "Hit:5 https://developer.download.nvidia.com/compute/cuda/repos/ubuntu1804/x86_64  InRelease\n",
            "Hit:6 https://developer.download.nvidia.com/compute/machine-learning/repos/ubuntu1804/x86_64  Release\n",
            "Hit:8 http://archive.ubuntu.com/ubuntu bionic InRelease\n",
            "Hit:9 http://ppa.launchpad.net/cran/libgit2/ubuntu bionic InRelease\n",
            "Hit:10 http://archive.ubuntu.com/ubuntu bionic-updates InRelease\n",
            "Hit:11 http://ppa.launchpad.net/deadsnakes/ppa/ubuntu bionic InRelease\n",
            "Hit:12 http://archive.ubuntu.com/ubuntu bionic-backports InRelease\n",
            "Hit:13 http://ppa.launchpad.net/graphics-drivers/ppa/ubuntu bionic InRelease\n",
            "Reading package lists... Done\n"
          ]
        }
      ],
      "source": [
        "! sudo apt-get update"
      ]
    },
    {
      "cell_type": "code",
      "execution_count": null,
      "metadata": {
        "colab": {
          "base_uri": "https://localhost:8080/"
        },
        "id": "NoGyJHsFEKcw",
        "outputId": "3ce3babb-f43d-4c73-8185-ecee43db3f40"
      },
      "outputs": [
        {
          "output_type": "stream",
          "name": "stdout",
          "text": [
            "Looking in indexes: https://pypi.org/simple, https://us-python.pkg.dev/colab-wheels/public/simple/\n",
            "Requirement already satisfied: pyspark in /usr/local/lib/python3.7/dist-packages (3.3.1)\n",
            "Requirement already satisfied: py4j==0.10.9.5 in /usr/local/lib/python3.7/dist-packages (from pyspark) (0.10.9.5)\n"
          ]
        }
      ],
      "source": [
        "# innstall java\n",
        "!apt-get install openjdk-8-jdk-headless -qq > /dev/null\n",
        "\n",
        "# install spark (change the version number if needed)\n",
        "!wget -q https://archive.apache.org/dist/spark/spark-3.0.0/spark-3.0.0-bin-hadoop3.2.tgz\n",
        "\n",
        "# unzip the spark file to the current folder\n",
        "!tar xf spark-3.0.0-bin-hadoop3.2.tgz\n",
        "\n",
        "# set your spark folder to your system path environment. \n",
        "import os\n",
        "os.environ[\"JAVA_HOME\"] = \"/usr/lib/jvm/java-8-openjdk-amd64\"\n",
        "os.environ[\"SPARK_HOME\"] = \"/content/spark-3.0.0-bin-hadoop3.2\"\n",
        "\n",
        "\n",
        "# install findspark using pip\n",
        "!pip install -q findspark\n",
        "\n",
        "#For python users, you should also install pyspark using the following command.\n",
        "\n",
        "!pip install pyspark"
      ]
    },
    {
      "cell_type": "code",
      "execution_count": null,
      "metadata": {
        "id": "zhS3VA_jpI-7"
      },
      "outputs": [],
      "source": [
        "import findspark\n",
        "findspark.init()"
      ]
    },
    {
      "cell_type": "code",
      "execution_count": null,
      "metadata": {
        "id": "67rYws9QELqP"
      },
      "outputs": [],
      "source": [
        "from google.colab import files\n",
        "from pyspark.sql import SparkSession\n",
        "from pyspark.ml.feature import VectorAssembler\n",
        "from pyspark.sql.functions import isnan, when, count, col, lit,to_date ,hour ,minute ,countDistinct\n",
        "from pyspark.ml.regression import RandomForestRegressor\n",
        "from pyspark.ml.evaluation import RegressionEvaluator\n",
        "from pyspark.ml import Pipeline\n",
        "from pyspark.ml.tuning import CrossValidator\n",
        "from pyspark.ml.evaluation import RegressionEvaluator\n",
        "from pyspark.ml.tuning import ParamGridBuilder\n",
        "from pyspark.ml.linalg import Vectors\n",
        "from pyspark.ml.feature import StandardScaler\n",
        "import pandas as pd \n",
        "import numpy as np \n",
        "import seaborn as sb \n",
        "%matplotlib inline\n",
        "import matplotlib.pyplot as plt \n",
        "from scipy.optimize import differential_evolution"
      ]
    },
    {
      "cell_type": "code",
      "execution_count": null,
      "metadata": {
        "id": "Vyx5HDrMEOX9"
      },
      "outputs": [],
      "source": [
        "sc =SparkSession.builder.master(\"local\").getOrCreate()"
      ]
    },
    {
      "cell_type": "code",
      "execution_count": null,
      "metadata": {
        "id": "wZrWUZjeERgN"
      },
      "outputs": [],
      "source": [
        "df1 = sc.read.csv('/content/drive/MyDrive/block_0.csv' , inferSchema = True ,header = True)"
      ]
    },
    {
      "cell_type": "code",
      "execution_count": null,
      "metadata": {
        "id": "dlBwDTpnETqH"
      },
      "outputs": [],
      "source": [
        "df1 = df1.withColumnRenamed(\"energy(kWh/hh)\",\"energy\")"
      ]
    },
    {
      "cell_type": "code",
      "execution_count": null,
      "metadata": {
        "id": "qW7F_c6REWFK"
      },
      "outputs": [],
      "source": [
        "df1 = df1.withColumn(\"energy\",df1[\"energy\"].cast(\"float\"))"
      ]
    },
    {
      "cell_type": "code",
      "execution_count": null,
      "metadata": {
        "id": "LQwVMWQyEX9B"
      },
      "outputs": [],
      "source": [
        "df1 = df1.filter(\"energy > 0\")"
      ]
    },
    {
      "cell_type": "code",
      "execution_count": null,
      "metadata": {
        "id": "CZoRncjzEivm"
      },
      "outputs": [],
      "source": [
        "df1 = df1.na.drop()"
      ]
    },
    {
      "cell_type": "code",
      "execution_count": null,
      "metadata": {
        "id": "uOcvaEr2ElAV"
      },
      "outputs": [],
      "source": [
        "df1 = df1.withColumn('date' ,to_date('tstp'))"
      ]
    },
    {
      "cell_type": "code",
      "execution_count": null,
      "metadata": {
        "id": "nqpysxn6EncP"
      },
      "outputs": [],
      "source": [
        "df1 = df1.withColumn('hour' ,hour('tstp'))"
      ]
    },
    {
      "cell_type": "code",
      "execution_count": null,
      "metadata": {
        "id": "39zgNFltEqZa"
      },
      "outputs": [],
      "source": [
        "df1 = df1.withColumn(\"minute\", minute(col(\"tstp\")))"
      ]
    },
    {
      "cell_type": "code",
      "execution_count": null,
      "metadata": {
        "id": "1PqsxDMWEr8m"
      },
      "outputs": [],
      "source": [
        "df1 = df1.filter(\"minute == 0\")"
      ]
    },
    {
      "cell_type": "code",
      "execution_count": null,
      "metadata": {
        "colab": {
          "base_uri": "https://localhost:8080/"
        },
        "id": "KtwmpnilEt5g",
        "outputId": "816cfa5c-01be-4b2e-ee73-b5b71a734eff"
      },
      "outputs": [
        {
          "output_type": "stream",
          "name": "stdout",
          "text": [
            "+---------+--------------------+------+----------+----+------+\n",
            "|    LCLid|                tstp|energy|      date|hour|minute|\n",
            "+---------+--------------------+------+----------+----+------+\n",
            "|MAC000002|2012-10-12 12:00:...| 0.663|2012-10-12|  12|     0|\n",
            "+---------+--------------------+------+----------+----+------+\n",
            "only showing top 1 row\n",
            "\n"
          ]
        }
      ],
      "source": [
        "df1.show(1)"
      ]
    },
    {
      "cell_type": "code",
      "execution_count": null,
      "metadata": {
        "colab": {
          "base_uri": "https://localhost:8080/"
        },
        "id": "mXS4mNZTSlg2",
        "outputId": "11cc9aee-0466-468d-8a82-e3e48932c707"
      },
      "outputs": [
        {
          "output_type": "execute_result",
          "data": {
            "text/plain": [
              "[('LCLid', 'string'),\n",
              " ('tstp', 'string'),\n",
              " ('energy', 'float'),\n",
              " ('date', 'date'),\n",
              " ('hour', 'int'),\n",
              " ('minute', 'int')]"
            ]
          },
          "metadata": {},
          "execution_count": 101
        }
      ],
      "source": [
        "df1.dtypes"
      ]
    },
    {
      "cell_type": "code",
      "execution_count": null,
      "metadata": {
        "id": "k5f_a_qwMKA8"
      },
      "outputs": [],
      "source": [
        "df2 = df1.groupby(['hour','date']).sum()"
      ]
    },
    {
      "cell_type": "code",
      "execution_count": null,
      "metadata": {
        "id": "kxFgRb9ENnf0"
      },
      "outputs": [],
      "source": [
        "columns = ['sum(hour)','sum(minute)']\n",
        "for c in columns:\n",
        "  df2 = df2.drop(c)"
      ]
    },
    {
      "cell_type": "code",
      "execution_count": null,
      "metadata": {
        "colab": {
          "base_uri": "https://localhost:8080/"
        },
        "id": "DyZZ9uO3OlkJ",
        "outputId": "1b19e1d0-b935-4807-928e-7f73ad333e48"
      },
      "outputs": [
        {
          "output_type": "stream",
          "name": "stdout",
          "text": [
            "+----+----------+------------------+\n",
            "|hour|      date|       sum(energy)|\n",
            "+----+----------+------------------+\n",
            "|   3|2012-10-26|10.381000064313412|\n",
            "+----+----------+------------------+\n",
            "only showing top 1 row\n",
            "\n"
          ]
        }
      ],
      "source": [
        "df2.show(1)"
      ]
    },
    {
      "cell_type": "code",
      "execution_count": null,
      "metadata": {
        "id": "BrCBdSz1Evo0"
      },
      "outputs": [],
      "source": [
        "df_temp = df1.select(['date','LCLid','hour'])"
      ]
    },
    {
      "cell_type": "code",
      "execution_count": null,
      "metadata": {
        "id": "XxyWfhDUE7Qw"
      },
      "outputs": [],
      "source": [
        "\n",
        "df_temp1 = df_temp.groupBy([\"date\",'hour']).agg(countDistinct(\"LCLid\"))"
      ]
    },
    {
      "cell_type": "code",
      "execution_count": null,
      "metadata": {
        "colab": {
          "base_uri": "https://localhost:8080/"
        },
        "id": "uq6JcH9fFDYH",
        "outputId": "614b1fff-1d68-4011-a8b5-7668662cec49"
      },
      "outputs": [
        {
          "output_type": "stream",
          "name": "stdout",
          "text": [
            "+----------+----+------------+\n",
            "|      date|hour|count(LCLid)|\n",
            "+----------+----+------------+\n",
            "|2013-10-31|  13|          45|\n",
            "|2013-03-20|   9|          48|\n",
            "+----------+----+------------+\n",
            "only showing top 2 rows\n",
            "\n"
          ]
        }
      ],
      "source": [
        "df_temp1.show(2)"
      ]
    },
    {
      "cell_type": "code",
      "execution_count": null,
      "metadata": {
        "id": "9EFXvM01Ozk0"
      },
      "outputs": [],
      "source": [
        "df_temp1 = df_temp1.withColumnRenamed('date','date1')\n",
        "df_temp1 = df_temp1.withColumnRenamed('hour','hour1')"
      ]
    },
    {
      "cell_type": "markdown",
      "metadata": {
        "id": "QpIfHUYxFdYb"
      },
      "source": [
        "## Join two dataframes\n",
        " sothat we can see the number of houses per hour per date "
      ]
    },
    {
      "cell_type": "code",
      "execution_count": null,
      "metadata": {
        "id": "0Y6VapzAFFNL"
      },
      "outputs": [],
      "source": [
        "df22 = df2.join(df_temp1 , (df2['date']==df_temp1['date1']) & (df2['hour']==df_temp1['hour1']) , how = 'inner') "
      ]
    },
    {
      "cell_type": "code",
      "execution_count": null,
      "metadata": {
        "colab": {
          "base_uri": "https://localhost:8080/"
        },
        "id": "N2IaViv9GLNv",
        "outputId": "2870ba7a-946a-4905-fae9-759db9488bb8"
      },
      "outputs": [
        {
          "output_type": "stream",
          "name": "stdout",
          "text": [
            "+----+----------+------------------+----------+-----+------------+\n",
            "|hour|      date|       sum(energy)|     date1|hour1|count(LCLid)|\n",
            "+----+----------+------------------+----------+-----+------------+\n",
            "|   0|2012-03-13|0.7720000147819519|2012-03-13|    0|           1|\n",
            "|   0|2012-10-07| 9.847999865189195|2012-10-07|    0|          24|\n",
            "|   0|2013-03-11|23.160000069066882|2013-03-11|    0|          48|\n",
            "|   0|2013-03-13|18.891000002622604|2013-03-13|    0|          48|\n",
            "|   0|2013-05-13|13.163000032305717|2013-05-13|    0|          49|\n",
            "+----+----------+------------------+----------+-----+------------+\n",
            "only showing top 5 rows\n",
            "\n"
          ]
        }
      ],
      "source": [
        "df22.show(5)"
      ]
    },
    {
      "cell_type": "code",
      "execution_count": null,
      "metadata": {
        "id": "iYjAA6_6FYTv"
      },
      "outputs": [],
      "source": [
        "columns = ['date1' ,'hour1']\n",
        "for c in columns:\n",
        "  df1 = df22.drop(c)"
      ]
    },
    {
      "cell_type": "code",
      "execution_count": null,
      "metadata": {
        "id": "dOuWLwMVP5Mc"
      },
      "outputs": [],
      "source": [
        "df1 = df1.drop(\"date1\")\n",
        "df1 = df1.withColumnRenamed(\"count(DISTINCT LCLid)\" , \"count_houses\")"
      ]
    },
    {
      "cell_type": "code",
      "execution_count": null,
      "metadata": {
        "colab": {
          "base_uri": "https://localhost:8080/"
        },
        "id": "GTK8LkdMGo86",
        "outputId": "76c65191-18e3-44df-9524-43c19859f9be"
      },
      "outputs": [
        {
          "output_type": "stream",
          "name": "stdout",
          "text": [
            "+----+----------+-------------------+------------+\n",
            "|hour|      date|        sum(energy)|count(LCLid)|\n",
            "+----+----------+-------------------+------------+\n",
            "|   0|2012-03-13| 0.7720000147819519|           1|\n",
            "|   0|2012-10-07|  9.847999865189195|          24|\n",
            "|   0|2013-03-11| 23.160000069066882|          48|\n",
            "|   0|2013-03-13| 18.891000002622604|          48|\n",
            "|   0|2013-05-13| 13.163000032305717|          49|\n",
            "|   1|2011-12-16| 0.9129999876022339|           1|\n",
            "|   1|2013-04-19| 13.632000053301454|          48|\n",
            "|   1|2013-08-30|  9.969999948516488|          46|\n",
            "|   2|2012-01-16|0.10999999940395355|           1|\n",
            "|   2|2012-03-30| 1.6389999724924564|           4|\n",
            "+----+----------+-------------------+------------+\n",
            "only showing top 10 rows\n",
            "\n"
          ]
        }
      ],
      "source": [
        "df1.show(10)"
      ]
    },
    {
      "cell_type": "markdown",
      "metadata": {
        "id": "VDdZRCjwJ_ex"
      },
      "source": [
        "## Defining day and night column "
      ]
    },
    {
      "cell_type": "code",
      "execution_count": null,
      "metadata": {
        "id": "z0ZbRxMdJ59F"
      },
      "outputs": [],
      "source": [
        "df_day = sc.read.csv('/content/drive/MyDrive/day_night.csv' , inferSchema = True ,header = True)"
      ]
    },
    {
      "cell_type": "code",
      "execution_count": null,
      "metadata": {
        "id": "zQrZGVxQKEfn"
      },
      "outputs": [],
      "source": [
        "df_day = df_day.withColumn('date3' , to_date(\"date\"))"
      ]
    },
    {
      "cell_type": "code",
      "execution_count": null,
      "metadata": {
        "id": "ijchpqD1KHHE"
      },
      "outputs": [],
      "source": [
        "df1 = df1.join(df_day , df1['date']==df_day['date3'], how ='inner'  )"
      ]
    },
    {
      "cell_type": "code",
      "execution_count": null,
      "metadata": {
        "id": "_6lD-zpwKLKm"
      },
      "outputs": [],
      "source": [
        "columns = ['sum(hour)' ,'_c0' ,'date2' ]\n",
        "for c in columns : \n",
        "  df1 = df1.drop(c)"
      ]
    },
    {
      "cell_type": "code",
      "execution_count": null,
      "metadata": {
        "id": "yFP8I5XOKNMd"
      },
      "outputs": [],
      "source": [
        "df1 = df1.withColumn('hour_rise' ,hour('sunriseTime'))\n",
        "df1 = df1.withColumn('hour_set' ,hour('sunsetTime'))"
      ]
    },
    {
      "cell_type": "code",
      "execution_count": null,
      "metadata": {
        "colab": {
          "base_uri": "https://localhost:8080/"
        },
        "id": "_tcfme69gsEN",
        "outputId": "9f4d4776-35d5-496b-da8d-1dfa3044b775"
      },
      "outputs": [
        {
          "output_type": "stream",
          "name": "stdout",
          "text": [
            "+----+----------+------------------+------------+-------------------+-------------------+----------+----------+---------+--------+\n",
            "|hour|      date|       sum(energy)|count(LCLid)|        sunriseTime|         sunsetTime|      date|     date3|hour_rise|hour_set|\n",
            "+----+----------+------------------+------------+-------------------+-------------------+----------+----------+---------+--------+\n",
            "|   0|2012-03-13|0.7720000147819519|           1|2012-03-13 06:19:36|2012-03-13 18:02:47|2012-03-13|2012-03-13|        6|      18|\n",
            "|   0|2012-10-07| 9.847999865189195|          24|2012-10-08 06:14:19|2012-10-08 17:23:46|2012-10-07|2012-10-07|        6|      17|\n",
            "+----+----------+------------------+------------+-------------------+-------------------+----------+----------+---------+--------+\n",
            "only showing top 2 rows\n",
            "\n"
          ]
        }
      ],
      "source": [
        "df1.show(2)"
      ]
    },
    {
      "cell_type": "code",
      "execution_count": null,
      "metadata": {
        "id": "rhRkDITzKPW1"
      },
      "outputs": [],
      "source": [
        "df1 = df1.withColumn('day_night', when((df1.hour > df1.hour_rise) &( df1.hour < df1.hour_set),1)\n",
        "                    .when(  df1.hour < 6 ,0)\n",
        "                    .otherwise(2)) "
      ]
    },
    {
      "cell_type": "code",
      "execution_count": null,
      "metadata": {
        "colab": {
          "base_uri": "https://localhost:8080/"
        },
        "id": "IXPcZSxwKRmk",
        "outputId": "f946d9f9-515b-47ed-ffab-dc4709263ee4"
      },
      "outputs": [
        {
          "output_type": "stream",
          "name": "stdout",
          "text": [
            "+----+----------+-------------------+------------+-------------------+-------------------+----------+----------+---------+--------+---------+\n",
            "|hour|      date|        sum(energy)|count(LCLid)|        sunriseTime|         sunsetTime|      date|     date3|hour_rise|hour_set|day_night|\n",
            "+----+----------+-------------------+------------+-------------------+-------------------+----------+----------+---------+--------+---------+\n",
            "|   0|2012-03-13| 0.7720000147819519|           1|2012-03-13 06:19:36|2012-03-13 18:02:47|2012-03-13|2012-03-13|        6|      18|        0|\n",
            "|   0|2012-10-07|  9.847999865189195|          24|2012-10-08 06:14:19|2012-10-08 17:23:46|2012-10-07|2012-10-07|        6|      17|        0|\n",
            "|   0|2013-03-11| 23.160000069066882|          48|2013-03-11 06:24:44|2013-03-11 17:58:56|2013-03-11|2013-03-11|        6|      17|        0|\n",
            "|   0|2013-03-13| 18.891000002622604|          48|2013-03-13 06:20:12|2013-03-13 18:02:21|2013-03-13|2013-03-13|        6|      18|        0|\n",
            "|   0|2013-05-13| 13.163000032305717|          49|2013-05-14 04:11:12|2013-05-14 19:45:06|2013-05-13|2013-05-13|        4|      19|        0|\n",
            "|   1|2011-12-16| 0.9129999876022339|           1|2011-12-16 08:01:35|2011-12-16 15:52:56|2011-12-16|2011-12-16|        8|      15|        0|\n",
            "|   1|2013-04-19| 13.632000053301454|          48|2013-04-20 04:54:56|2013-04-20 19:05:55|2013-04-19|2013-04-19|        4|      19|        0|\n",
            "|   1|2013-08-30|  9.969999948516488|          46|2013-08-31 05:13:04|2013-08-31 18:51:27|2013-08-30|2013-08-30|        5|      18|        0|\n",
            "|   2|2012-01-16|0.10999999940395355|           1|2012-01-16 08:00:15|2012-01-16 16:21:54|2012-01-16|2012-01-16|        8|      16|        0|\n",
            "|   2|2012-03-30| 1.6389999724924564|           4|2012-03-31 05:38:19|2012-03-31 18:32:57|2012-03-30|2012-03-30|        5|      18|        0|\n",
            "|   2|2012-07-27|  5.289000049233437|          10|2012-07-28 04:19:57|2012-07-28 19:56:16|2012-07-27|2012-07-27|        4|      19|        0|\n",
            "|   2|2013-10-11|  9.335000107064843|          45|2013-10-12 06:20:34|2013-10-12 17:15:30|2013-10-11|2013-10-11|        6|      17|        0|\n",
            "|   3|2012-10-26| 10.381000064313412|          49|2012-10-27 06:46:56|2012-10-27 16:44:00|2012-10-26|2012-10-26|        6|      16|        0|\n",
            "|   3|2012-12-28| 12.084999971091747|          48|2012-12-28 08:07:22|2012-12-28 15:59:20|2012-12-28|2012-12-28|        8|      15|        0|\n",
            "|   3|2013-01-22| 14.912000000476837|          48|2013-01-22 07:53:26|2013-01-22 16:32:57|2013-01-22|2013-01-22|        7|      16|        0|\n",
            "|   3|2013-02-21| 13.310999970883131|          48|2013-02-21 07:03:44|2013-02-21 17:27:19|2013-02-21|2013-02-21|        7|      17|        0|\n",
            "|   3|2013-10-10| 10.218000072985888|          46|2013-10-11 06:18:53|2013-10-11 17:17:42|2013-10-10|2013-10-10|        6|      17|        0|\n",
            "|   3|2013-11-29|  9.417000064626336|          44|2013-11-29 07:42:35|2013-11-29 15:58:00|2013-11-29|2013-11-29|        7|      15|        0|\n",
            "|   4|2011-12-17| 0.3889999985694885|           1|2011-12-17 08:02:21|2011-12-17 15:53:06|2011-12-17|2011-12-17|        8|      15|        0|\n",
            "|   4|2012-01-21| 0.7630000114440918|           1|2012-01-21 07:55:23|2012-01-21 16:30:00|2012-01-21|2012-01-21|        7|      16|        0|\n",
            "|   4|2012-07-27|  4.914999974891543|          10|2012-07-28 04:19:57|2012-07-28 19:56:16|2012-07-27|2012-07-27|        4|      19|        0|\n",
            "|   4|2012-09-24|  4.940999999642372|          13|2012-09-25 05:53:09|2012-09-25 17:53:25|2012-09-24|2012-09-24|        5|      17|        0|\n",
            "|   4|2012-12-17| 12.898000014945865|          50|2012-12-17 08:02:53|2012-12-17 15:53:16|2012-12-17|2012-12-17|        8|      15|        0|\n",
            "|   4|2013-05-20| 11.731999980285764|          48|2013-05-21 04:01:33|2013-05-21 19:55:25|2013-05-20|2013-05-20|        4|      19|        0|\n",
            "|   4|2013-08-30|   9.13600005209446|          46|2013-08-31 05:13:04|2013-08-31 18:51:27|2013-08-30|2013-08-30|        5|      18|        0|\n",
            "|   5|2012-08-01|  4.089000005275011|          10|2012-08-02 04:27:28|2012-08-02 19:48:22|2012-08-01|2012-08-01|        4|      19|        1|\n",
            "|   5|2013-03-31| 14.217999927699566|          48|2013-03-31 05:38:55|2013-03-31 18:32:31|2013-03-31|2013-03-31|        5|      18|        0|\n",
            "|   5|2013-03-31| 14.217999927699566|          48|2013-04-01 05:36:38|2013-04-01 18:34:11|2013-03-31|2013-03-31|        5|      18|        0|\n",
            "|   5|2013-08-29| 11.005999967455864|          47|2013-08-30 05:11:28|2013-08-30 18:53:40|2013-08-29|2013-08-29|        5|      18|        0|\n",
            "|   6|2012-05-03| 1.5929999686777592|           5|2012-05-04 04:27:15|2012-05-04 19:29:37|2012-05-03|2012-05-03|        4|      19|        1|\n",
            "|   6|2012-06-10|  5.068999879062176|           9|2012-06-11 03:44:42|2012-06-11 20:18:25|2012-06-10|2012-06-10|        3|      20|        1|\n",
            "|   6|2012-07-18|  4.458000048995018|          10|2012-07-19 04:07:25|2012-07-19 20:08:18|2012-07-18|2012-07-18|        4|      20|        1|\n",
            "|   6|2013-01-04|  13.91500000283122|          48|2013-01-04 08:06:45|2013-01-04 16:06:24|2013-01-04|2013-01-04|        8|      16|        2|\n",
            "|   6|2013-04-14| 13.754000004380941|          48|2013-04-15 05:05:30|2013-04-15 18:57:32|2013-04-14|2013-04-14|        5|      18|        1|\n",
            "|   6|2013-08-10| 13.328999975696206|          48|2013-08-11 04:41:07|2013-08-11 19:32:52|2013-08-10|2013-08-10|        4|      19|        1|\n",
            "|   6|2013-09-05|  15.25399985909462|          46|2013-09-06 05:22:35|2013-09-06 18:37:58|2013-09-05|2013-09-05|        5|      18|        1|\n",
            "|   6|2013-10-11| 13.971999984234571|          45|2013-10-12 06:20:34|2013-10-12 17:15:30|2013-10-11|2013-10-11|        6|      17|        2|\n",
            "|   6|2014-01-01| 10.701999980956316|          44|2014-01-01 08:07:22|2014-01-01 16:02:49|2014-01-01|2014-01-01|        8|      16|        2|\n",
            "|   7|2012-01-17|0.10000000149011612|           1|2012-01-17 07:59:22|2012-01-17 16:23:29|2012-01-17|2012-01-17|        7|      16|        2|\n",
            "|   7|2014-01-08| 15.874000012874603|          44|2014-01-08 08:05:19|2014-01-08 16:11:03|2014-01-08|2014-01-08|        8|      16|        2|\n",
            "|   8|2011-12-20| 0.1080000028014183|           1|2011-12-20 08:04:20|2011-12-20 15:53:59|2011-12-20|2011-12-20|        8|      15|        2|\n",
            "|   8|2014-01-13| 24.107999831438065|          43|2014-01-13 08:02:16|2014-01-13 16:18:04|2014-01-13|2014-01-13|        8|      16|        2|\n",
            "|   9|2012-02-13|0.07100000232458115|           1|2012-02-13 07:20:46|2012-02-13 17:11:22|2012-02-13|2012-02-13|        7|      17|        1|\n",
            "|   9|2013-06-01| 17.544999919831753|          47|2013-06-02 03:49:29|2013-06-02 20:10:20|2013-06-01|2013-06-01|        3|      20|        1|\n",
            "|  10|2012-09-27|  6.431999992579222|          15|2012-09-28 05:57:58|2012-09-28 17:46:29|2012-09-27|2012-09-27|        5|      17|        1|\n",
            "|  10|2012-11-03| 28.491000145673752|          49|2012-11-03 06:59:22|2012-11-03 16:31:11|2012-11-03|2012-11-03|        6|      16|        1|\n",
            "|  10|2013-04-20| 23.881000017747283|          48|2013-04-21 04:52:52|2013-04-21 19:07:35|2013-04-20|2013-04-20|        4|      19|        1|\n",
            "|  10|2013-09-14| 18.191999899223447|          45|2013-09-15 05:36:50|2013-09-15 18:17:15|2013-09-14|2013-09-14|        5|      18|        1|\n",
            "|  10|2013-10-26| 18.494000082835555|          45|2013-10-27 06:46:28|2013-10-27 16:44:30|2013-10-26|2013-10-26|        6|      16|        1|\n",
            "|  10|2013-10-29| 21.989999851211905|          45|2013-10-29 06:50:01|2013-10-29 16:40:42|2013-10-29|2013-10-29|        6|      16|        1|\n",
            "+----+----------+-------------------+------------+-------------------+-------------------+----------+----------+---------+--------+---------+\n",
            "only showing top 50 rows\n",
            "\n"
          ]
        }
      ],
      "source": [
        "df1.show(50)"
      ]
    },
    {
      "cell_type": "code",
      "execution_count": null,
      "metadata": {
        "id": "KKyS3Vk0KbYA"
      },
      "outputs": [],
      "source": [
        "columns = ['sunriseTime','sunsetTime','hour_rise','hour_set']\n",
        "for c in columns : \n",
        "  df1 = df1.drop(c)"
      ]
    },
    {
      "cell_type": "code",
      "execution_count": null,
      "metadata": {
        "colab": {
          "base_uri": "https://localhost:8080/"
        },
        "id": "1SSbKeoQQk_t",
        "outputId": "3d039b61-b110-437e-ce66-e0ea7b7d9e0f"
      },
      "outputs": [
        {
          "output_type": "stream",
          "name": "stdout",
          "text": [
            "+----+----------+------------------+------------+----------+----------+---------+\n",
            "|hour|      date|       sum(energy)|count(LCLid)|      date|     date3|day_night|\n",
            "+----+----------+------------------+------------+----------+----------+---------+\n",
            "|   0|2012-03-13|0.7720000147819519|           1|2012-03-13|2012-03-13|        0|\n",
            "|   0|2012-10-07| 9.847999865189195|          24|2012-10-07|2012-10-07|        0|\n",
            "+----+----------+------------------+------------+----------+----------+---------+\n",
            "only showing top 2 rows\n",
            "\n"
          ]
        }
      ],
      "source": [
        "df1.show(2)"
      ]
    },
    {
      "cell_type": "markdown",
      "metadata": {
        "id": "cBkJmPulQpIO"
      },
      "source": [
        "## Add weather hourly"
      ]
    },
    {
      "cell_type": "code",
      "execution_count": null,
      "metadata": {
        "id": "mT6ZcWx8Kdp1"
      },
      "outputs": [],
      "source": [
        "df_weather = sc.read.csv('/content/drive/MyDrive/weather_hourly_darksky.csv' , inferSchema = True ,header = True)"
      ]
    },
    {
      "cell_type": "code",
      "execution_count": null,
      "metadata": {
        "id": "L40jDk4eKjbi"
      },
      "outputs": [],
      "source": [
        "df_weather=df_weather.na.drop()"
      ]
    },
    {
      "cell_type": "code",
      "execution_count": null,
      "metadata": {
        "id": "u3TAZT-FKuFf"
      },
      "outputs": [],
      "source": [
        "df_weather =df_weather.withColumn(\"date2\" , to_date(\"time\"))"
      ]
    },
    {
      "cell_type": "code",
      "execution_count": null,
      "metadata": {
        "id": "fzQrLJLIKw7b"
      },
      "outputs": [],
      "source": [
        "df_weather =df_weather.withColumn(\"hour2\" , hour(\"time\"))"
      ]
    },
    {
      "cell_type": "code",
      "execution_count": null,
      "metadata": {
        "id": "Cwc4eW43K7Ke"
      },
      "outputs": [],
      "source": [
        "df_weather = df_weather.withColumnRenamed(\"time\" , \"time2\")"
      ]
    },
    {
      "cell_type": "code",
      "execution_count": null,
      "metadata": {
        "id": "4YFesru9K9Te"
      },
      "outputs": [],
      "source": [
        "df_temp =df1.join(df_weather , (df1['date3']==df_weather['date2']) & (df1['hour']==df_weather['hour2']), how ='inner')"
      ]
    },
    {
      "cell_type": "code",
      "execution_count": null,
      "metadata": {
        "colab": {
          "base_uri": "https://localhost:8080/"
        },
        "id": "4WnJURjLLBkN",
        "outputId": "e8c19468-b5fc-44f5-8921-9e430e064d2c"
      },
      "outputs": [
        {
          "output_type": "stream",
          "name": "stdout",
          "text": [
            "+----+----------+------------------+------------+----------+----------+---------+----------+-----------+-----------+-------------------+--------+--------+-------------------+---------+----------+-------------------+--------+-------------+----------+-----+\n",
            "|hour|      date|       sum(energy)|count(LCLid)|      date|     date3|day_night|visibility|windBearing|temperature|              time2|dewPoint|pressure|apparentTemperature|windSpeed|precipType|               icon|humidity|      summary|     date2|hour2|\n",
            "+----+----------+------------------+------------+----------+----------+---------+----------+-----------+-----------+-------------------+--------+--------+-------------------+---------+----------+-------------------+--------+-------------+----------+-----+\n",
            "|   0|2012-03-13|0.7720000147819519|           1|2012-03-13|2012-03-13|        0|      2.83|         62|       7.81|2012-03-13 00:00:00|    6.53| 1034.98|               7.24|     1.42|      rain|                fog|    0.92|        Foggy|2012-03-13|    0|\n",
            "|   0|2012-10-07| 9.847999865189195|          24|2012-10-07|2012-10-07|        0|      11.1|        289|       7.19|2012-10-07 00:00:00|    6.43| 1017.77|               7.19|     0.92|      rain|        clear-night|    0.95|        Clear|2012-10-07|    0|\n",
            "|   0|2013-03-11|23.160000069066882|          48|2013-03-11|2013-03-11|        0|     13.08|         46|       1.22|2013-03-11 00:00:00|   -2.26| 1007.16|              -4.11|     6.46|      rain|partly-cloudy-night|    0.78|Mostly Cloudy|2013-03-11|    0|\n",
            "|   0|2013-03-13|18.891000002622604|          48|2013-03-13|2013-03-13|        0|     13.23|        322|       2.32|2013-03-13 00:00:00|   -0.16| 1009.49|              -0.74|     3.04|      rain|partly-cloudy-night|    0.84|Partly Cloudy|2013-03-13|    0|\n",
            "|   0|2013-05-13|13.163000032305717|          49|2013-05-13|2013-05-13|        0|     10.64|        241|      11.44|2013-05-13 00:00:00|   10.28| 1012.69|              11.44|      5.3|      rain|        clear-night|    0.93|        Clear|2013-05-13|    0|\n",
            "+----+----------+------------------+------------+----------+----------+---------+----------+-----------+-----------+-------------------+--------+--------+-------------------+---------+----------+-------------------+--------+-------------+----------+-----+\n",
            "only showing top 5 rows\n",
            "\n"
          ]
        }
      ],
      "source": [
        "df_temp.show(5)"
      ]
    },
    {
      "cell_type": "code",
      "execution_count": null,
      "metadata": {
        "id": "Q458jt75Rjwb"
      },
      "outputs": [],
      "source": [
        "columns = ['windBearing','windSpeed','pressure'\n",
        "            ,'precipType' , 'icon' ,'summary' , \n",
        "            'visibility' ,'dewPoint' ,'apparentTemperature' ,'date' ,'hour' ]\n",
        "for c in columns : \n",
        "   df_temp =df_temp.drop(c)"
      ]
    },
    {
      "cell_type": "code",
      "execution_count": null,
      "metadata": {
        "id": "gdjzEPNFLJtA"
      },
      "outputs": [],
      "source": [
        "df = df_temp"
      ]
    },
    {
      "cell_type": "code",
      "execution_count": null,
      "metadata": {
        "id": "J719lm7xRi-w",
        "colab": {
          "base_uri": "https://localhost:8080/"
        },
        "outputId": "42b32339-6c92-4e75-e744-caf3582d138c"
      },
      "outputs": [
        {
          "output_type": "stream",
          "name": "stdout",
          "text": [
            "+------------------+------------+----------+---------+-----------+-------------------+--------+----------+-----+\n",
            "|       sum(energy)|count(LCLid)|     date3|day_night|temperature|              time2|humidity|     date2|hour2|\n",
            "+------------------+------------+----------+---------+-----------+-------------------+--------+----------+-----+\n",
            "|0.7720000147819519|           1|2012-03-13|        0|       7.81|2012-03-13 00:00:00|    0.92|2012-03-13|    0|\n",
            "| 9.847999865189195|          24|2012-10-07|        0|       7.19|2012-10-07 00:00:00|    0.95|2012-10-07|    0|\n",
            "|23.160000069066882|          48|2013-03-11|        0|       1.22|2013-03-11 00:00:00|    0.78|2013-03-11|    0|\n",
            "|18.891000002622604|          48|2013-03-13|        0|       2.32|2013-03-13 00:00:00|    0.84|2013-03-13|    0|\n",
            "|13.163000032305717|          49|2013-05-13|        0|      11.44|2013-05-13 00:00:00|    0.93|2013-05-13|    0|\n",
            "+------------------+------------+----------+---------+-----------+-------------------+--------+----------+-----+\n",
            "only showing top 5 rows\n",
            "\n"
          ]
        }
      ],
      "source": [
        "df.show(5)"
      ]
    },
    {
      "cell_type": "markdown",
      "metadata": {
        "id": "J85oIJXALQEu"
      },
      "source": [
        "## Add bank holidays "
      ]
    },
    {
      "cell_type": "code",
      "execution_count": null,
      "metadata": {
        "id": "o2dOZvmFLPJ_"
      },
      "outputs": [],
      "source": [
        "df_holi = sc.read.csv('/content/drive/MyDrive/uk_bank_holidays.csv',header=True,inferSchema=True)"
      ]
    },
    {
      "cell_type": "code",
      "execution_count": null,
      "metadata": {
        "id": "wCvT2SUWLVQk"
      },
      "outputs": [],
      "source": [
        "df_holi = df_holi.withColumn('date4' ,to_date('Bank holidays'))"
      ]
    },
    {
      "cell_type": "code",
      "execution_count": null,
      "metadata": {
        "id": "mcZqHfAXSXry"
      },
      "outputs": [],
      "source": [
        "df_temp = df.join(df_holi ,df['date3']==df_holi['date4'] , how ='outer')"
      ]
    },
    {
      "cell_type": "code",
      "execution_count": null,
      "metadata": {
        "id": "Sh2EpBrwSs3v"
      },
      "outputs": [],
      "source": [
        "df_temp = df_temp.withColumn('week_end',when(df_temp['date2']==df_temp['date4'],1).otherwise(0))"
      ]
    },
    {
      "cell_type": "code",
      "execution_count": null,
      "metadata": {
        "id": "jRQgwXVZS6y4"
      },
      "outputs": [],
      "source": [
        "from pyspark.sql.functions import date_trunc\n",
        "from pyspark.sql.functions import to_date ,hour\n",
        "from pyspark.sql.functions import isnan, when, count, col, lit\n",
        "from pyspark.sql.functions import date_format\n",
        "df_temp = df_temp.withColumn(\"week_day\", date_format(col(\"time2\"), \"E\"))"
      ]
    },
    {
      "cell_type": "code",
      "execution_count": null,
      "metadata": {
        "id": "LmrnK8CUS9tX"
      },
      "outputs": [],
      "source": [
        "df_temp = df_temp\\\n",
        ".withColumn(\"week_end\", when(col(\"week_day\") == \"Sat\",1)\\\n",
        "            .when(col(\"week_day\") ==\"Sun\",1).otherwise(0))"
      ]
    },
    {
      "cell_type": "code",
      "execution_count": null,
      "metadata": {
        "colab": {
          "base_uri": "https://localhost:8080/"
        },
        "id": "1RwFYcqjTATQ",
        "outputId": "02de7b70-b218-4499-8048-1babd2a5580b"
      },
      "outputs": [
        {
          "output_type": "stream",
          "name": "stdout",
          "text": [
            "+------------------+------------+----------+---------+-----------+-------------------+--------+----------+-----+-------------+----+-----+--------+--------+\n",
            "|       sum(energy)|count(LCLid)|     date3|day_night|temperature|              time2|humidity|     date2|hour2|Bank holidays|Type|date4|week_end|week_day|\n",
            "+------------------+------------+----------+---------+-----------+-------------------+--------+----------+-----+-------------+----+-----+--------+--------+\n",
            "|3.2189999409019947|           5|2012-04-17|        1|      13.77|2012-04-17 14:00:00|    0.42|2012-04-17|   14|         null|null| null|       0|     Tue|\n",
            "|2.4299999997019768|           5|2012-04-17|        1|      10.96|2012-04-17 11:00:00|    0.75|2012-04-17|   11|         null|null| null|       0|     Tue|\n",
            "| 6.209000080823898|           5|2012-04-17|        2|       6.41|2012-04-17 20:00:00|    0.81|2012-04-17|   20|         null|null| null|       0|     Tue|\n",
            "|3.9889999851584435|           5|2012-04-17|        1|       9.16|2012-04-17 16:00:00|    0.75|2012-04-17|   16|         null|null| null|       0|     Tue|\n",
            "|3.1090001314878464|           5|2012-04-17|        1|       8.82|2012-04-17 18:00:00|    0.72|2012-04-17|   18|         null|null| null|       0|     Tue|\n",
            "+------------------+------------+----------+---------+-----------+-------------------+--------+----------+-----+-------------+----+-----+--------+--------+\n",
            "only showing top 5 rows\n",
            "\n"
          ]
        }
      ],
      "source": [
        "df_temp.show(5)"
      ]
    },
    {
      "cell_type": "code",
      "execution_count": null,
      "metadata": {
        "id": "qbwM8g5nTD18"
      },
      "outputs": [],
      "source": [
        "columns= ['time2','date2','date3','sum(hour)','time','date2','Bank holidays','Type','date4','week_day']\n",
        "for c in columns:\n",
        "  df_temp = df_temp.drop(c)"
      ]
    },
    {
      "cell_type": "code",
      "execution_count": null,
      "metadata": {
        "colab": {
          "base_uri": "https://localhost:8080/"
        },
        "id": "9SHDPXFcVRyB",
        "outputId": "b18b178a-38b7-4cbe-94a1-30a00c0e052a"
      },
      "outputs": [
        {
          "output_type": "stream",
          "name": "stdout",
          "text": [
            "+------------------+------------+---------+-----------+--------+-----+--------+\n",
            "|       sum(energy)|count(LCLid)|day_night|temperature|humidity|hour2|week_end|\n",
            "+------------------+------------+---------+-----------+--------+-----+--------+\n",
            "|3.2189999409019947|           5|        1|      13.77|    0.42|   14|       0|\n",
            "|2.4299999997019768|           5|        1|      10.96|    0.75|   11|       0|\n",
            "| 6.209000080823898|           5|        2|       6.41|    0.81|   20|       0|\n",
            "|3.9889999851584435|           5|        1|       9.16|    0.75|   16|       0|\n",
            "|3.1090001314878464|           5|        1|       8.82|    0.72|   18|       0|\n",
            "+------------------+------------+---------+-----------+--------+-----+--------+\n",
            "only showing top 5 rows\n",
            "\n"
          ]
        }
      ],
      "source": [
        "df_temp.show(5)"
      ]
    },
    {
      "cell_type": "code",
      "execution_count": null,
      "metadata": {
        "id": "ADLJ57bRVUmA"
      },
      "outputs": [],
      "source": [
        "df= df_temp"
      ]
    },
    {
      "cell_type": "code",
      "execution_count": null,
      "metadata": {
        "colab": {
          "base_uri": "https://localhost:8080/"
        },
        "id": "cRk01QTfu0N2",
        "outputId": "01c55ad7-dfee-4abd-b96e-e9703e1e01e9"
      },
      "outputs": [
        {
          "output_type": "stream",
          "name": "stdout",
          "text": [
            "+------------------+------------+---------+-----------+--------+-----+--------+\n",
            "|       sum(energy)|count(LCLid)|day_night|temperature|humidity|hour2|week_end|\n",
            "+------------------+------------+---------+-----------+--------+-----+--------+\n",
            "|3.2189999409019947|           5|        1|      13.77|    0.42|   14|       0|\n",
            "|2.4299999997019768|           5|        1|      10.96|    0.75|   11|       0|\n",
            "+------------------+------------+---------+-----------+--------+-----+--------+\n",
            "only showing top 2 rows\n",
            "\n"
          ]
        }
      ],
      "source": [
        "df.show(2)"
      ]
    },
    {
      "cell_type": "code",
      "execution_count": null,
      "metadata": {
        "id": "sobrrbfDxYh1"
      },
      "outputs": [],
      "source": [
        "df  =df.na.drop()"
      ]
    },
    {
      "cell_type": "code",
      "execution_count": null,
      "metadata": {
        "colab": {
          "base_uri": "https://localhost:8080/"
        },
        "id": "zmVr2RRwxZHO",
        "outputId": "3487bf6e-513e-4dbc-c5d9-0d9ae50f6041"
      },
      "outputs": [
        {
          "output_type": "execute_result",
          "data": {
            "text/plain": [
              "19611"
            ]
          },
          "metadata": {},
          "execution_count": 146
        }
      ],
      "source": [
        "df.count()"
      ]
    },
    {
      "cell_type": "code",
      "execution_count": null,
      "metadata": {
        "id": "UCqulOgGVa7o"
      },
      "outputs": [],
      "source": [
        "from pyspark.ml.feature import OneHotEncoder\n",
        "stages = []\n",
        "column_list = ['hour2' ,'week_end','day_night']\n",
        "for column in column_list :\n",
        "  encoder = OneHotEncoder(inputCol=column, outputCol=column+\"_encoded\")\n",
        "  stages.append(encoder)\n",
        "pipeline = Pipeline(stages = stages )\n",
        "df_encoded = pipeline.fit(df).transform(df)  "
      ]
    },
    {
      "cell_type": "code",
      "execution_count": null,
      "metadata": {
        "id": "ddZktByYVfN8",
        "colab": {
          "base_uri": "https://localhost:8080/"
        },
        "outputId": "e2bdfd98-3217-4b79-cdd4-ffeec98095c0"
      },
      "outputs": [
        {
          "output_type": "stream",
          "name": "stdout",
          "text": [
            "+------------------+------------+---------+-----------+--------+-----+--------+--------------+----------------+-----------------+--------------------+\n",
            "|       sum(energy)|count(LCLid)|day_night|temperature|humidity|hour2|week_end| hour2_encoded|week_end_encoded|day_night_encoded|     features_vector|\n",
            "+------------------+------------+---------+-----------+--------+-----+--------+--------------+----------------+-----------------+--------------------+\n",
            "|0.7720000147819519|           1|        0|       7.81|    0.92|    0|       0|(23,[0],[1.0])|   (1,[0],[1.0])|    (2,[0],[1.0])|(29,[0,23,24,25,2...|\n",
            "| 9.847999865189195|          24|        0|       7.19|    0.95|    0|       1|(23,[0],[1.0])|       (1,[],[])|    (2,[0],[1.0])|(29,[0,23,24,26,2...|\n",
            "|23.160000069066882|          48|        0|       1.22|    0.78|    0|       0|(23,[0],[1.0])|   (1,[0],[1.0])|    (2,[0],[1.0])|(29,[0,23,24,25,2...|\n",
            "+------------------+------------+---------+-----------+--------+-----+--------+--------------+----------------+-----------------+--------------------+\n",
            "only showing top 3 rows\n",
            "\n"
          ]
        }
      ],
      "source": [
        "from pyspark.ml.linalg import Vectors\n",
        "from pyspark.ml.feature import VectorAssembler\n",
        "vector_assembler = VectorAssembler(inputCols = ['hour2_encoded','temperature' ,'humidity','week_end_encoded','day_night_encoded','count(LCLid)'] \n",
        "                                   ,outputCol = 'features_vector')\n",
        "df = vector_assembler.transform(df_encoded)\n",
        "df.show(3)"
      ]
    },
    {
      "cell_type": "markdown",
      "source": [
        "Eng. Abdelrahman objected on making polynomial features for one-hot encoded columns and after some research :\n",
        "\n",
        "1- making polynomial features means a lot because multiplying tempreture by zero (week-end for instance) when residents are outside for picnic or whatever so the tempreture effect is cancelled . \n",
        "\n",
        "2- The R2 metric developed from around 0.83 to 0.95 and there is no overfitting because we use cross validation with no. of folds = 4"
      ],
      "metadata": {
        "id": "g3WO2-y0nmHz"
      }
    },
    {
      "cell_type": "code",
      "execution_count": null,
      "metadata": {
        "id": "RAQvU3Soifcm"
      },
      "outputs": [],
      "source": [
        " from pyspark.ml import Pipeline\n",
        "# expansion parameters \n",
        "from pyspark.ml.feature import PolynomialExpansion\n",
        "poly = PolynomialExpansion(degree =2 ,inputCol='features_vector', outputCol='poly_features')\n",
        "df = poly.transform(df)"
      ]
    },
    {
      "cell_type": "code",
      "execution_count": null,
      "metadata": {
        "id": "yub66GqZGjnZ"
      },
      "outputs": [],
      "source": [
        "df_train ,df_test = df.randomSplit([0.8,0.2])"
      ]
    },
    {
      "cell_type": "code",
      "execution_count": null,
      "metadata": {
        "id": "WXdsW9Q6i6y2"
      },
      "outputs": [],
      "source": [
        "ss = StandardScaler(withMean=True, withStd=True, inputCol='poly_features' , outputCol='poly_features_scaled')"
      ]
    },
    {
      "cell_type": "code",
      "execution_count": null,
      "metadata": {
        "id": "VO3nU27ui0ok"
      },
      "outputs": [],
      "source": [
        "ss_model =ss.fit(df_train)"
      ]
    },
    {
      "cell_type": "code",
      "execution_count": null,
      "metadata": {
        "id": "fsWLGOYTGzuw"
      },
      "outputs": [],
      "source": [
        "df_train = ss_model.transform(df_train)\n",
        "df_test = ss_model.transform(df_test)"
      ]
    },
    {
      "cell_type": "code",
      "execution_count": null,
      "metadata": {
        "colab": {
          "base_uri": "https://localhost:8080/"
        },
        "id": "Q6iWeaB-wFf9",
        "outputId": "d6d0c3e3-b872-4cb4-c495-4c229d5c46e7"
      },
      "outputs": [
        {
          "output_type": "stream",
          "name": "stdout",
          "text": [
            "+-------------------+------------+---------+-----------+--------+-----+--------+---------------+----------------+-----------------+--------------------+--------------------+--------------------+\n",
            "|        sum(energy)|count(LCLid)|day_night|temperature|humidity|hour2|week_end|  hour2_encoded|week_end_encoded|day_night_encoded|     features_vector|       poly_features|poly_features_scaled|\n",
            "+-------------------+------------+---------+-----------+--------+-----+--------+---------------+----------------+-----------------+--------------------+--------------------+--------------------+\n",
            "|0.03500000014901161|           1|        2|      10.69|    0.83|   19|       0|(23,[19],[1.0])|   (1,[0],[1.0])|        (2,[],[])|(29,[19,23,24,25,...|(464,[209,229,299...|[-0.2111612459119...|\n",
            "|0.07100000232458115|           1|        1|       2.77|    0.98|    9|       0| (23,[9],[1.0])|   (1,[0],[1.0])|    (2,[1],[1.0])|(29,[9,23,24,25,2...|(464,[54,64,299,3...|[-0.2111612459119...|\n",
            "+-------------------+------------+---------+-----------+--------+-----+--------+---------------+----------------+-----------------+--------------------+--------------------+--------------------+\n",
            "only showing top 2 rows\n",
            "\n"
          ]
        }
      ],
      "source": [
        "df_train.show(2)"
      ]
    },
    {
      "cell_type": "markdown",
      "metadata": {
        "id": "ISxqRJMIaiyh"
      },
      "source": [
        "### Plain MLR "
      ]
    },
    {
      "cell_type": "code",
      "execution_count": null,
      "metadata": {
        "id": "kNDukQDaaluY"
      },
      "outputs": [],
      "source": [
        "from pyspark.ml.regression import LinearRegression\n",
        "# elasticnetparam = 0 --> ridge regression (L2 penalty )\n",
        "lr =LinearRegression( featuresCol='poly_features_scaled', labelCol='sum(energy)',elasticNetParam=0)"
      ]
    },
    {
      "cell_type": "code",
      "execution_count": null,
      "metadata": {
        "id": "9c-FBv05bSrj"
      },
      "outputs": [],
      "source": [
        "pipeline = Pipeline(stages = [lr])"
      ]
    },
    {
      "cell_type": "code",
      "execution_count": null,
      "metadata": {
        "id": "MUASkYRrbVPN"
      },
      "outputs": [],
      "source": [
        "pipeline.write().overwrite().save(\"pipeline\")\n",
        "pipelineModel = Pipeline.load(\"pipeline\")"
      ]
    },
    {
      "cell_type": "code",
      "execution_count": null,
      "metadata": {
        "id": "6TDA7rpKbXd4"
      },
      "outputs": [],
      "source": [
        "from pyspark.ml.tuning import ParamGridBuilder\n",
        "paramGrid =  ParamGridBuilder().build()"
      ]
    },
    {
      "cell_type": "code",
      "execution_count": null,
      "metadata": {
        "id": "W7V5XMbBbgPJ"
      },
      "outputs": [],
      "source": [
        "from pyspark.ml.evaluation import RegressionEvaluator\n",
        "evaluator = RegressionEvaluator(predictionCol='prediction', labelCol='sum(energy)', metricName='r2')"
      ]
    },
    {
      "cell_type": "code",
      "execution_count": null,
      "metadata": {
        "id": "TBpiEKaSbjwk"
      },
      "outputs": [],
      "source": [
        "crossval = CrossValidator(estimator=pipelineModel,\n",
        "                          estimatorParamMaps=paramGrid,\n",
        "                          evaluator=evaluator,\n",
        "                          numFolds=2\n",
        "                          ,collectSubModels=True\n",
        "                          ) "
      ]
    },
    {
      "cell_type": "code",
      "execution_count": null,
      "metadata": {
        "id": "1gdhYqNjbnez"
      },
      "outputs": [],
      "source": [
        "cvmodel = crossval.fit(df_train)"
      ]
    },
    {
      "cell_type": "code",
      "execution_count": null,
      "metadata": {
        "colab": {
          "base_uri": "https://localhost:8080/"
        },
        "id": "TZbGqcBwbszk",
        "outputId": "046b3c6b-be5a-4484-d2bf-abe875fde828"
      },
      "outputs": [
        {
          "data": {
            "text/plain": [
              "[0.9507357174221318]"
            ]
          },
          "execution_count": 77,
          "metadata": {},
          "output_type": "execute_result"
        }
      ],
      "source": [
        "cvmodel.avgMetrics"
      ]
    },
    {
      "cell_type": "code",
      "execution_count": null,
      "metadata": {
        "colab": {
          "base_uri": "https://localhost:8080/",
          "height": 728
        },
        "id": "hnum1LtS5thK",
        "outputId": "ffb44f66-20b0-4b96-e651-12050d55e08a"
      },
      "outputs": [
        {
          "name": "stdout",
          "output_type": "stream",
          "text": [
            "I am here in obj function\n",
            "I am here in obj function\n",
            "I am here in obj function\n",
            "I am here in obj function\n",
            "I am here in obj function\n",
            "I am here in obj function\n",
            "I am here in obj function\n",
            "I am here in obj function\n",
            "I am here in obj function\n",
            "I am here in obj function\n",
            "I am here in obj function\n",
            "I am here in obj function\n",
            "I am here in obj function\n",
            "I am here in obj function\n",
            "I am here in obj function\n",
            "I am here in obj function\n"
          ]
        },
        {
          "ename": "ValueError",
          "evalue": "ignored",
          "output_type": "error",
          "traceback": [
            "\u001b[0;31m---------------------------------------------------------------------------\u001b[0m",
            "\u001b[0;31mTypeError\u001b[0m                                 Traceback (most recent call last)",
            "\u001b[0;31mTypeError\u001b[0m: float() argument must be a string or a number, not 'list'",
            "\nThe above exception was the direct cause of the following exception:\n",
            "\u001b[0;31mValueError\u001b[0m                                Traceback (most recent call last)",
            "\u001b[0;32m<ipython-input-79-129add88b1ee>\u001b[0m in \u001b[0;36m<module>\u001b[0;34m\u001b[0m\n\u001b[1;32m     14\u001b[0m \u001b[0;31m# Set up Differential Evolution solver\u001b[0m\u001b[0;34m\u001b[0m\u001b[0;34m\u001b[0m\u001b[0;34m\u001b[0m\u001b[0m\n\u001b[1;32m     15\u001b[0m solver = differential_evolution(obj_fun,boundaries,args=extra_variables,strategy='best1bin',\n\u001b[0;32m---> 16\u001b[0;31m                                     popsize=15,mutation=0.5,recombination=0.7,tol=0.01,seed=2020)\n\u001b[0m",
            "\u001b[0;32m/usr/local/lib/python3.7/dist-packages/scipy/optimize/_differentialevolution.py\u001b[0m in \u001b[0;36mdifferential_evolution\u001b[0;34m(func, bounds, args, strategy, maxiter, popsize, tol, mutation, recombination, seed, callback, disp, polish, init, atol, updating, workers, constraints, x0)\u001b[0m\n\u001b[1;32m    327\u001b[0m                                      \u001b[0mconstraints\u001b[0m\u001b[0;34m=\u001b[0m\u001b[0mconstraints\u001b[0m\u001b[0;34m,\u001b[0m\u001b[0;34m\u001b[0m\u001b[0;34m\u001b[0m\u001b[0m\n\u001b[1;32m    328\u001b[0m                                      x0=x0) as solver:\n\u001b[0;32m--> 329\u001b[0;31m         \u001b[0mret\u001b[0m \u001b[0;34m=\u001b[0m \u001b[0msolver\u001b[0m\u001b[0;34m.\u001b[0m\u001b[0msolve\u001b[0m\u001b[0;34m(\u001b[0m\u001b[0;34m)\u001b[0m\u001b[0;34m\u001b[0m\u001b[0;34m\u001b[0m\u001b[0m\n\u001b[0m\u001b[1;32m    330\u001b[0m \u001b[0;34m\u001b[0m\u001b[0m\n\u001b[1;32m    331\u001b[0m     \u001b[0;32mreturn\u001b[0m \u001b[0mret\u001b[0m\u001b[0;34m\u001b[0m\u001b[0;34m\u001b[0m\u001b[0m\n",
            "\u001b[0;32m/usr/local/lib/python3.7/dist-packages/scipy/optimize/_differentialevolution.py\u001b[0m in \u001b[0;36msolve\u001b[0;34m(self)\u001b[0m\n\u001b[1;32m    850\u001b[0m             \u001b[0;31m# evolve the population by a generation\u001b[0m\u001b[0;34m\u001b[0m\u001b[0;34m\u001b[0m\u001b[0;34m\u001b[0m\u001b[0m\n\u001b[1;32m    851\u001b[0m             \u001b[0;32mtry\u001b[0m\u001b[0;34m:\u001b[0m\u001b[0;34m\u001b[0m\u001b[0;34m\u001b[0m\u001b[0m\n\u001b[0;32m--> 852\u001b[0;31m                 \u001b[0mnext\u001b[0m\u001b[0;34m(\u001b[0m\u001b[0mself\u001b[0m\u001b[0;34m)\u001b[0m\u001b[0;34m\u001b[0m\u001b[0;34m\u001b[0m\u001b[0m\n\u001b[0m\u001b[1;32m    853\u001b[0m             \u001b[0;32mexcept\u001b[0m \u001b[0mStopIteration\u001b[0m\u001b[0;34m:\u001b[0m\u001b[0;34m\u001b[0m\u001b[0;34m\u001b[0m\u001b[0m\n\u001b[1;32m    854\u001b[0m                 \u001b[0mwarning_flag\u001b[0m \u001b[0;34m=\u001b[0m \u001b[0;32mTrue\u001b[0m\u001b[0;34m\u001b[0m\u001b[0;34m\u001b[0m\u001b[0m\n",
            "\u001b[0;32m/usr/local/lib/python3.7/dist-packages/scipy/optimize/_differentialevolution.py\u001b[0m in \u001b[0;36m__next__\u001b[0;34m(self)\u001b[0m\n\u001b[1;32m   1169\u001b[0m                                       self.constraint_violation[candidate]):\n\u001b[1;32m   1170\u001b[0m                     \u001b[0mself\u001b[0m\u001b[0;34m.\u001b[0m\u001b[0mpopulation\u001b[0m\u001b[0;34m[\u001b[0m\u001b[0mcandidate\u001b[0m\u001b[0;34m]\u001b[0m \u001b[0;34m=\u001b[0m \u001b[0mtrial\u001b[0m\u001b[0;34m\u001b[0m\u001b[0;34m\u001b[0m\u001b[0m\n\u001b[0;32m-> 1171\u001b[0;31m                     \u001b[0mself\u001b[0m\u001b[0;34m.\u001b[0m\u001b[0mpopulation_energies\u001b[0m\u001b[0;34m[\u001b[0m\u001b[0mcandidate\u001b[0m\u001b[0;34m]\u001b[0m \u001b[0;34m=\u001b[0m \u001b[0menergy\u001b[0m\u001b[0;34m\u001b[0m\u001b[0;34m\u001b[0m\u001b[0m\n\u001b[0m\u001b[1;32m   1172\u001b[0m                     \u001b[0mself\u001b[0m\u001b[0;34m.\u001b[0m\u001b[0mfeasible\u001b[0m\u001b[0;34m[\u001b[0m\u001b[0mcandidate\u001b[0m\u001b[0;34m]\u001b[0m \u001b[0;34m=\u001b[0m \u001b[0mfeasible\u001b[0m\u001b[0;34m\u001b[0m\u001b[0;34m\u001b[0m\u001b[0m\n\u001b[1;32m   1173\u001b[0m                     \u001b[0mself\u001b[0m\u001b[0;34m.\u001b[0m\u001b[0mconstraint_violation\u001b[0m\u001b[0;34m[\u001b[0m\u001b[0mcandidate\u001b[0m\u001b[0;34m]\u001b[0m \u001b[0;34m=\u001b[0m \u001b[0mcv\u001b[0m\u001b[0;34m\u001b[0m\u001b[0;34m\u001b[0m\u001b[0m\n",
            "\u001b[0;31mValueError\u001b[0m: setting an array element with a sequence."
          ]
        }
      ],
      "source": [
        "def obj_fun(hyperparams,X,y):\n",
        "  print(\"I am here in obj function\")\n",
        "  alpha_value = hyperparams\n",
        "  crossval = CrossValidator(estimator=pipelineModel,\n",
        "                          estimatorParamMaps=paramGrid,\n",
        "                          evaluator=evaluator,numFolds=2,collectSubModels=True)\n",
        "   \n",
        "  cvmodel = crossval.fit(df_train)\n",
        "  return cvmodel.avgMetrics\n",
        "# Set limits for Differential Evolution\n",
        "alpha_lim = (0.00001,1)\n",
        "boundaries = [alpha_lim]\n",
        "extra_variables = (df_train['poly_features_scaled'],df_train['sum(energy)'])\n",
        "# Set up Differential Evolution solver\n",
        "solver = differential_evolution(obj_fun, boundaries, args=extra_variables, strategy='best1bin',\n",
        "                                    popsize=10,mutation=0.5,recombination=0.7,tol=0.01,seed=2020)"
      ]
    },
    {
      "cell_type": "code",
      "execution_count": null,
      "metadata": {
        "id": "8g74Wgmu7xVQ"
      },
      "outputs": [],
      "source": [
        "best_hyperparams = solver.x\n",
        "best_rmse = solver.fun\n",
        "    # Print final results\n",
        "print(\"Converged hyperparameters: alpha= %.6f, gamma= %.6f\" %(best_hyperparams[0],best_hyperparams[1]))    \n",
        "print(\"Minimum rmse: %.6f\" %(best_rmse))"
      ]
    },
    {
      "cell_type": "code",
      "execution_count": null,
      "metadata": {
        "colab": {
          "base_uri": "https://localhost:8080/",
          "height": 501
        },
        "id": "O2Jy6Z_9ehy_",
        "outputId": "86d8acbe-6d58-4060-ec0c-d4fc72141a89"
      },
      "outputs": [
        {
          "ename": "NameError",
          "evalue": "ignored",
          "output_type": "error",
          "traceback": [
            "\u001b[0;31m---------------------------------------------------------------------------\u001b[0m",
            "\u001b[0;31mNameError\u001b[0m                                 Traceback (most recent call last)",
            "\u001b[0;32m<ipython-input-90-b0dc0d90ce10>\u001b[0m in \u001b[0;36m<module>\u001b[0;34m()\u001b[0m\n\u001b[1;32m     11\u001b[0m \u001b[0mplt\u001b[0m\u001b[0;34m.\u001b[0m\u001b[0myticks\u001b[0m\u001b[0;34m(\u001b[0m\u001b[0mfontsize\u001b[0m \u001b[0;34m=\u001b[0m \u001b[0;36m10\u001b[0m\u001b[0;34m,\u001b[0m\u001b[0mfontweight\u001b[0m\u001b[0;34m=\u001b[0m \u001b[0;36m500\u001b[0m\u001b[0;34m)\u001b[0m\u001b[0;34m\u001b[0m\u001b[0;34m\u001b[0m\u001b[0m\n\u001b[1;32m     12\u001b[0m \u001b[0;31m#ax = figure.add_subplot(111)\u001b[0m\u001b[0;34m\u001b[0m\u001b[0;34m\u001b[0m\u001b[0;34m\u001b[0m\u001b[0m\n\u001b[0;32m---> 13\u001b[0;31m \u001b[0mplt\u001b[0m\u001b[0;34m.\u001b[0m\u001b[0mplot\u001b[0m\u001b[0;34m(\u001b[0m\u001b[0mdegree\u001b[0m \u001b[0;34m,\u001b[0m\u001b[0mcvmodel\u001b[0m\u001b[0;34m.\u001b[0m\u001b[0mavgMetrics\u001b[0m \u001b[0;34m,\u001b[0m \u001b[0;34m'-o'\u001b[0m\u001b[0;34m)\u001b[0m\u001b[0;34m\u001b[0m\u001b[0;34m\u001b[0m\u001b[0m\n\u001b[0m\u001b[1;32m     14\u001b[0m \u001b[0;32mfrom\u001b[0m \u001b[0mgoogle\u001b[0m\u001b[0;34m.\u001b[0m\u001b[0mcolab\u001b[0m \u001b[0;32mimport\u001b[0m \u001b[0mfiles\u001b[0m\u001b[0;34m\u001b[0m\u001b[0;34m\u001b[0m\u001b[0m\n\u001b[1;32m     15\u001b[0m \u001b[0mplt\u001b[0m\u001b[0;34m.\u001b[0m\u001b[0msavefig\u001b[0m\u001b[0;34m(\u001b[0m\u001b[0;34m\"Plain MLR.png\"\u001b[0m\u001b[0;34m)\u001b[0m\u001b[0;34m\u001b[0m\u001b[0;34m\u001b[0m\u001b[0m\n",
            "\u001b[0;31mNameError\u001b[0m: name 'degree' is not defined"
          ]
        },
        {
          "data": {
            "image/png": "[encoded data removed]",
            "text/plain": [
              "<Figure size 432x288 with 1 Axes>"
            ]
          },
          "metadata": {},
          "output_type": "display_data"
        }
      ],
      "source": [
        "#degree =[1,2]\n",
        "import pandas as pd \n",
        "import numpy as np \n",
        "import seaborn as sb \n",
        "%matplotlib inline\n",
        "import matplotlib.pyplot as plt \n",
        "#plt.xscale('log')\n",
        "plt.xlabel(\"Degree\" ,fontsize = 10 )\n",
        "plt.ylabel(\"R2 Metric\" ,fontsize = 10 )\n",
        "plt.xticks(ticks = [1,2,3],fontsize = 10 ,fontweight= 500 )\n",
        "plt.yticks(fontsize = 10,fontweight= 500) \n",
        "#ax = figure.add_subplot(111)\n",
        "plt.plot(degree ,cvmodel.avgMetrics , '-o')\n",
        "from google.colab import files\n",
        "plt.savefig(\"Plain MLR.png\")\n",
        "files.download(\"Plain MLR.png\")"
      ]
    },
    {
      "cell_type": "markdown",
      "metadata": {
        "id": "W4z4kw7SC04U"
      },
      "source": [
        "#### Testing Plain MLR "
      ]
    },
    {
      "cell_type": "code",
      "execution_count": null,
      "metadata": {
        "id": "x8Jk8GqUzwfs"
      },
      "outputs": [],
      "source": [
        "pred = cvmodel.transform(df_test)"
      ]
    },
    {
      "cell_type": "code",
      "execution_count": null,
      "metadata": {
        "id": "qvYbHwGkz6yr"
      },
      "outputs": [],
      "source": [
        "eval =RegressionEvaluator(labelCol=\"sum(energy)\")\n",
        "r2 = eval.evaluate(pred,{eval.metricName:\"r2\"})"
      ]
    },
    {
      "cell_type": "code",
      "execution_count": null,
      "metadata": {
        "colab": {
          "base_uri": "https://localhost:8080/"
        },
        "id": "hZfFnJqF0HZn",
        "outputId": "fba215e9-bebc-44c1-ea92-209dd3d258a6"
      },
      "outputs": [
        {
          "data": {
            "text/plain": [
              "0.9500291853270415"
            ]
          },
          "execution_count": 93,
          "metadata": {},
          "output_type": "execute_result"
        }
      ],
      "source": [
        "r2"
      ]
    },
    {
      "cell_type": "markdown",
      "metadata": {
        "id": "d4mfuNu5RJfM"
      },
      "source": [
        "### Lasso Regression "
      ]
    },
    {
      "cell_type": "code",
      "execution_count": null,
      "metadata": {
        "id": "x0Pjr8vRS7cC"
      },
      "outputs": [],
      "source": [
        "from pyspark.ml.regression import LinearRegression\n",
        "# elasticnetparam = 0 --> ridge regression (L2 penalty )\n",
        "lr =LinearRegression( featuresCol='poly_features_scaled', labelCol='sum(energy)',elasticNetParam=1)"
      ]
    },
    {
      "cell_type": "code",
      "execution_count": null,
      "metadata": {
        "id": "RtgZhlcYT-l_"
      },
      "outputs": [],
      "source": [
        "pipeline = Pipeline(stages = [lr])"
      ]
    },
    {
      "cell_type": "code",
      "execution_count": null,
      "metadata": {
        "id": "mdv7RggUT_tt"
      },
      "outputs": [],
      "source": [
        "pipeline.write().overwrite().save(\"pipeline\")\n",
        "pipelineModel = Pipeline.load(\"pipeline\")"
      ]
    },
    {
      "cell_type": "code",
      "execution_count": null,
      "metadata": {
        "id": "klhL1kxBUEIP"
      },
      "outputs": [],
      "source": [
        "# elasticNetParam = Param(parent='undefined', name='elasticNetParam', \n",
        "#doc='the ElasticNet mixing parameter, in range [0, 1]. For alpha = 0, \n",
        "#the penalty is an L2 penalty (ridge). For alpha = 1, it is an L1 penalty. (lasso)')\n",
        "from pyspark.ml.tuning import ParamGridBuilder\n",
        "paramGrid =  ParamGridBuilder().addGrid(lr.regParam, [1,0.1,0.01,0.001,0.0001,0.00001]).build()\n",
        "#paramGrid =  ParamGridBuilder().build()"
      ]
    },
    {
      "cell_type": "code",
      "execution_count": null,
      "metadata": {
        "id": "qYyiGpayWJmv"
      },
      "outputs": [],
      "source": [
        "from pyspark.ml.evaluation import RegressionEvaluator\n",
        "evaluator = RegressionEvaluator(predictionCol='prediction', labelCol='sum(energy)', metricName='r2')"
      ]
    },
    {
      "cell_type": "code",
      "execution_count": null,
      "metadata": {
        "id": "qqZcMO3fbf6B",
        "colab": {
          "base_uri": "https://localhost:8080/",
          "height": 223
        },
        "outputId": "20b73424-1876-4929-cd65-52c6d7915992"
      },
      "outputs": [
        {
          "output_type": "error",
          "ename": "NameError",
          "evalue": "ignored",
          "traceback": [
            "\u001b[0;31m---------------------------------------------------------------------------\u001b[0m",
            "\u001b[0;31mNameError\u001b[0m                                 Traceback (most recent call last)",
            "\u001b[0;32m<ipython-input-76-8f344ab558ca>\u001b[0m in \u001b[0;36m<module>\u001b[0;34m\u001b[0m\n\u001b[1;32m      3\u001b[0m \u001b[0mextra_variables\u001b[0m \u001b[0;34m=\u001b[0m \u001b[0;34m(\u001b[0m\u001b[0mdf_train\u001b[0m\u001b[0;34m[\u001b[0m\u001b[0;34m'poly_features_scaled'\u001b[0m\u001b[0;34m]\u001b[0m\u001b[0;34m,\u001b[0m\u001b[0mdf_train\u001b[0m\u001b[0;34m[\u001b[0m\u001b[0;34m'sum(energy)'\u001b[0m\u001b[0;34m]\u001b[0m\u001b[0;34m)\u001b[0m\u001b[0;34m\u001b[0m\u001b[0;34m\u001b[0m\u001b[0m\n\u001b[1;32m      4\u001b[0m \u001b[0;31m# Set up Differential Evolution solver\u001b[0m\u001b[0;34m\u001b[0m\u001b[0;34m\u001b[0m\u001b[0;34m\u001b[0m\u001b[0m\n\u001b[0;32m----> 5\u001b[0;31m solver = differential_evolution(obj_fun,boundaries,args=extra_variables,strategy='best1bin',\n\u001b[0m\u001b[1;32m      6\u001b[0m                                     popsize=15,mutation=0.5,recombination=0.7,tol=0.01,seed=2020)\n",
            "\u001b[0;31mNameError\u001b[0m: name 'obj_fun' is not defined"
          ]
        }
      ],
      "source": [
        "alpha_lim = (0.00001,1)\n",
        "boundaries = [alpha_lim]\n",
        "extra_variables = (df_train['poly_features_scaled'],df_train['sum(energy)'])\n",
        "# Set up Differential Evolution solver\n",
        "solver = differential_evolution(obj_fun,boundaries,args=extra_variables,strategy='best1bin',\n",
        "                                    popsize=15,mutation=0.5,recombination=0.7,tol=0.01,seed=2020)"
      ]
    },
    {
      "cell_type": "code",
      "execution_count": null,
      "metadata": {
        "colab": {
          "background_save": true,
          "base_uri": "https://localhost:8080/"
        },
        "id": "QZTiqvIGNZiG",
        "outputId": "3ee362bf-0a01-4e93-86e3-df5f164482a5"
      },
      "outputs": [
        {
          "name": "stdout",
          "output_type": "stream",
          "text": [
            "start of cell\n",
            "I am here in obj function\n",
            "I am here in obj function\n",
            "I am here in obj function\n",
            "I am here in obj function\n",
            "I am here in obj function\n",
            "I am here in obj function\n",
            "I am here in obj function\n",
            "I am here in obj function\n",
            "I am here in obj function\n",
            "I am here in obj function\n",
            "I am here in obj function\n",
            "I am here in obj function\n",
            "I am here in obj function\n",
            "I am here in obj function\n",
            "I am here in obj function\n",
            "I am here in obj function\n",
            "I am here in obj function\n"
          ]
        },
        {
          "ename": "ValueError",
          "evalue": "ignored",
          "output_type": "error",
          "traceback": [
            "\u001b[0;31m---------------------------------------------------------------------------\u001b[0m",
            "\u001b[0;31mTypeError\u001b[0m                                 Traceback (most recent call last)",
            "\u001b[0;31mTypeError\u001b[0m: float() argument must be a string or a number, not 'list'",
            "\nThe above exception was the direct cause of the following exception:\n",
            "\u001b[0;31mValueError\u001b[0m                                Traceback (most recent call last)",
            "\u001b[0;32m<ipython-input-76-883b9a14f101>\u001b[0m in \u001b[0;36m<module>\u001b[0;34m\u001b[0m\n\u001b[1;32m     17\u001b[0m \u001b[0;31m# Set up Differential Evolution solver\u001b[0m\u001b[0;34m\u001b[0m\u001b[0;34m\u001b[0m\u001b[0;34m\u001b[0m\u001b[0m\n\u001b[1;32m     18\u001b[0m solver = differential_evolution(obj_fun,boundaries,args=extra_variables,strategy='best1bin',\n\u001b[0;32m---> 19\u001b[0;31m                                     popsize=15,mutation=0.5,recombination=0.7,tol=0.01,seed=202,disp=True)\n\u001b[0m",
            "\u001b[0;32m/usr/local/lib/python3.7/dist-packages/scipy/optimize/_differentialevolution.py\u001b[0m in \u001b[0;36mdifferential_evolution\u001b[0;34m(func, bounds, args, strategy, maxiter, popsize, tol, mutation, recombination, seed, callback, disp, polish, init, atol, updating, workers, constraints, x0)\u001b[0m\n\u001b[1;32m    327\u001b[0m                                      \u001b[0mconstraints\u001b[0m\u001b[0;34m=\u001b[0m\u001b[0mconstraints\u001b[0m\u001b[0;34m,\u001b[0m\u001b[0;34m\u001b[0m\u001b[0;34m\u001b[0m\u001b[0m\n\u001b[1;32m    328\u001b[0m                                      x0=x0) as solver:\n\u001b[0;32m--> 329\u001b[0;31m         \u001b[0mret\u001b[0m \u001b[0;34m=\u001b[0m \u001b[0msolver\u001b[0m\u001b[0;34m.\u001b[0m\u001b[0msolve\u001b[0m\u001b[0;34m(\u001b[0m\u001b[0;34m)\u001b[0m\u001b[0;34m\u001b[0m\u001b[0;34m\u001b[0m\u001b[0m\n\u001b[0m\u001b[1;32m    330\u001b[0m \u001b[0;34m\u001b[0m\u001b[0m\n\u001b[1;32m    331\u001b[0m     \u001b[0;32mreturn\u001b[0m \u001b[0mret\u001b[0m\u001b[0;34m\u001b[0m\u001b[0;34m\u001b[0m\u001b[0m\n",
            "\u001b[0;32m/usr/local/lib/python3.7/dist-packages/scipy/optimize/_differentialevolution.py\u001b[0m in \u001b[0;36msolve\u001b[0;34m(self)\u001b[0m\n\u001b[1;32m    850\u001b[0m             \u001b[0;31m# evolve the population by a generation\u001b[0m\u001b[0;34m\u001b[0m\u001b[0;34m\u001b[0m\u001b[0;34m\u001b[0m\u001b[0m\n\u001b[1;32m    851\u001b[0m             \u001b[0;32mtry\u001b[0m\u001b[0;34m:\u001b[0m\u001b[0;34m\u001b[0m\u001b[0;34m\u001b[0m\u001b[0m\n\u001b[0;32m--> 852\u001b[0;31m                 \u001b[0mnext\u001b[0m\u001b[0;34m(\u001b[0m\u001b[0mself\u001b[0m\u001b[0;34m)\u001b[0m\u001b[0;34m\u001b[0m\u001b[0;34m\u001b[0m\u001b[0m\n\u001b[0m\u001b[1;32m    853\u001b[0m             \u001b[0;32mexcept\u001b[0m \u001b[0mStopIteration\u001b[0m\u001b[0;34m:\u001b[0m\u001b[0;34m\u001b[0m\u001b[0;34m\u001b[0m\u001b[0m\n\u001b[1;32m    854\u001b[0m                 \u001b[0mwarning_flag\u001b[0m \u001b[0;34m=\u001b[0m \u001b[0;32mTrue\u001b[0m\u001b[0;34m\u001b[0m\u001b[0;34m\u001b[0m\u001b[0m\n",
            "\u001b[0;32m/usr/local/lib/python3.7/dist-packages/scipy/optimize/_differentialevolution.py\u001b[0m in \u001b[0;36m__next__\u001b[0;34m(self)\u001b[0m\n\u001b[1;32m   1169\u001b[0m                                       self.constraint_violation[candidate]):\n\u001b[1;32m   1170\u001b[0m                     \u001b[0mself\u001b[0m\u001b[0;34m.\u001b[0m\u001b[0mpopulation\u001b[0m\u001b[0;34m[\u001b[0m\u001b[0mcandidate\u001b[0m\u001b[0;34m]\u001b[0m \u001b[0;34m=\u001b[0m \u001b[0mtrial\u001b[0m\u001b[0;34m\u001b[0m\u001b[0;34m\u001b[0m\u001b[0m\n\u001b[0;32m-> 1171\u001b[0;31m                     \u001b[0mself\u001b[0m\u001b[0;34m.\u001b[0m\u001b[0mpopulation_energies\u001b[0m\u001b[0;34m[\u001b[0m\u001b[0mcandidate\u001b[0m\u001b[0;34m]\u001b[0m \u001b[0;34m=\u001b[0m \u001b[0menergy\u001b[0m\u001b[0;34m\u001b[0m\u001b[0;34m\u001b[0m\u001b[0m\n\u001b[0m\u001b[1;32m   1172\u001b[0m                     \u001b[0mself\u001b[0m\u001b[0;34m.\u001b[0m\u001b[0mfeasible\u001b[0m\u001b[0;34m[\u001b[0m\u001b[0mcandidate\u001b[0m\u001b[0;34m]\u001b[0m \u001b[0;34m=\u001b[0m \u001b[0mfeasible\u001b[0m\u001b[0;34m\u001b[0m\u001b[0;34m\u001b[0m\u001b[0m\n\u001b[1;32m   1173\u001b[0m                     \u001b[0mself\u001b[0m\u001b[0;34m.\u001b[0m\u001b[0mconstraint_violation\u001b[0m\u001b[0;34m[\u001b[0m\u001b[0mcandidate\u001b[0m\u001b[0;34m]\u001b[0m \u001b[0;34m=\u001b[0m \u001b[0mcv\u001b[0m\u001b[0;34m\u001b[0m\u001b[0;34m\u001b[0m\u001b[0m\n",
            "\u001b[0;31mValueError\u001b[0m: setting an array element with a sequence."
          ]
        }
      ],
      "source": [
        "def obj_fun(x,X,y):\n",
        "  print(\"I am here in obj function\")\n",
        "  #print(hyperparams)\n",
        "  #alpha_value = [0.0001,0.001,.01,.1,1]\n",
        "  alpha_value = x\n",
        "  crossval = CrossValidator(estimator=pipelineModel,\n",
        "                          estimatorParamMaps=ParamGridBuilder().addGrid(lr.regParam, alpha_value).build(),\n",
        "                          evaluator=evaluator,numFolds=2,collectSubModels=True)\n",
        "   \n",
        "  cvmodel = crossval.fit(df_train)\n",
        "  return cvmodel.avgMetrics\n",
        "# Set limits for Differential Evolution\n",
        "print(\"start of cell\")\n",
        "alpha_lim = (0.00001,1)\n",
        "boundaries = [alpha_lim]\n",
        "extra_variables = (df_train['poly_features_scaled'],df_train['sum(energy)'])\n",
        "# Set up Differential Evolution solver\n",
        "solver = differential_evolution(obj_fun,boundaries,args=extra_variables,strategy='best1bin',\n",
        "                                    popsize=15,mutation=0.5,recombination=0.7,tol=0.01,seed=202,disp=True)"
      ]
    },
    {
      "cell_type": "code",
      "execution_count": null,
      "metadata": {
        "id": "cm0JM6QoUKTD"
      },
      "outputs": [],
      "source": [
        "crossval = CrossValidator(estimator=pipelineModel,\n",
        "                          estimatorParamMaps=paramGrid,\n",
        "                          evaluator=evaluator,\n",
        "                          numFolds=4 ,collectSubModels=True)"
      ]
    },
    {
      "cell_type": "code",
      "execution_count": null,
      "metadata": {
        "id": "ASip3IA3WMRv"
      },
      "outputs": [],
      "source": [
        "cvmodel = crossval.fit(df_train)"
      ]
    },
    {
      "cell_type": "code",
      "execution_count": null,
      "metadata": {
        "colab": {
          "base_uri": "https://localhost:8080/"
        },
        "id": "WA73DTafUJ0v",
        "outputId": "d0a95e39-0a56-42f8-bf7f-1370b7677f71"
      },
      "outputs": [
        {
          "output_type": "execute_result",
          "data": {
            "text/plain": [
              "[0.8053398168428803,\n",
              " 0.9310025851111892,\n",
              " 0.948639381631783,\n",
              " 0.9496571538197317,\n",
              " 0.949375771696737,\n",
              " 0.9492776032555462]"
            ]
          },
          "metadata": {},
          "execution_count": 162
        }
      ],
      "source": [
        "cvmodel.avgMetrics"
      ]
    },
    {
      "cell_type": "code",
      "execution_count": null,
      "metadata": {
        "id": "3Jqvy46hX1WN"
      },
      "outputs": [],
      "source": [
        "alphas = [1,0.1,0.01,0.001,0.0001,0.00001]"
      ]
    },
    {
      "cell_type": "code",
      "execution_count": null,
      "metadata": {
        "colab": {
          "base_uri": "https://localhost:8080/",
          "height": 283
        },
        "id": "7ABhadY6WQmI",
        "outputId": "a508305a-9840-4733-86e4-8556ee6c5ed2"
      },
      "outputs": [
        {
          "data": {
            "application/javascript": [
              "\n",
              "    async function download(id, filename, size) {\n",
              "      if (!google.colab.kernel.accessAllowed) {\n",
              "        return;\n",
              "      }\n",
              "      const div = document.createElement('div');\n",
              "      const label = document.createElement('label');\n",
              "      label.textContent = `Downloading \"${filename}\": `;\n",
              "      div.appendChild(label);\n",
              "      const progress = document.createElement('progress');\n",
              "      progress.max = size;\n",
              "      div.appendChild(progress);\n",
              "      document.body.appendChild(div);\n",
              "\n",
              "      const buffers = [];\n",
              "      let downloaded = 0;\n",
              "\n",
              "      const channel = await google.colab.kernel.comms.open(id);\n",
              "      // Send a message to notify the kernel that we're ready.\n",
              "      channel.send({})\n",
              "\n",
              "      for await (const message of channel.messages) {\n",
              "        // Send a message to notify the kernel that we're ready.\n",
              "        channel.send({})\n",
              "        if (message.buffers) {\n",
              "          for (const buffer of message.buffers) {\n",
              "            buffers.push(buffer);\n",
              "            downloaded += buffer.byteLength;\n",
              "            progress.value = downloaded;\n",
              "          }\n",
              "        }\n",
              "      }\n",
              "      const blob = new Blob(buffers, {type: 'application/binary'});\n",
              "      const a = document.createElement('a');\n",
              "      a.href = window.URL.createObjectURL(blob);\n",
              "      a.download = filename;\n",
              "      div.appendChild(a);\n",
              "      a.click();\n",
              "      div.remove();\n",
              "    }\n",
              "  "
            ],
            "text/plain": [
              "<IPython.core.display.Javascript object>"
            ]
          },
          "metadata": {},
          "output_type": "display_data"
        },
        {
          "data": {
            "application/javascript": [
              "download(\"download_f45b96c1-18e2-407d-a065-86e4eaffff3d\", \"Lasso.png\", 12220)"
            ],
            "text/plain": [
              "<IPython.core.display.Javascript object>"
            ]
          },
          "metadata": {},
          "output_type": "display_data"
        },
        {
          "data": {
            "image/png": "[encoded data removed]",
            "text/plain": [
              "<Figure size 432x288 with 1 Axes>"
            ]
          },
          "metadata": {},
          "output_type": "display_data"
        }
      ],
      "source": [
        "import pandas as pd \n",
        "import numpy as np \n",
        "import seaborn as sb \n",
        "%matplotlib inline\n",
        "import matplotlib.pyplot as plt \n",
        "plt.xscale('log')\n",
        "plt.xlabel(\"Alpha\" ,fontsize = 10 )\n",
        "plt.ylabel(\"R2 Metric\" ,fontsize = 10 )\n",
        "plt.xticks(fontsize = 10 ,fontweight= 500 )\n",
        "plt.yticks(fontsize = 10,fontweight= 500) \n",
        "#ax = figure.add_subplot(111)\n",
        "plt.plot(alphas ,cvmodel.avgMetrics , '-o')\n",
        "from google.colab import files\n",
        "plt.savefig(\"Lasso.png\")\n",
        "files.download(\"Lasso.png\")"
      ]
    },
    {
      "cell_type": "markdown",
      "metadata": {
        "id": "jZvnKU-Iq487"
      },
      "source": [
        "#### Testing Lasso Model "
      ]
    },
    {
      "cell_type": "code",
      "execution_count": null,
      "metadata": {
        "id": "iUSIKcfbqtXA"
      },
      "outputs": [],
      "source": [
        "pred = cvmodel.transform(df_test)"
      ]
    },
    {
      "cell_type": "code",
      "execution_count": null,
      "metadata": {
        "colab": {
          "base_uri": "https://localhost:8080/"
        },
        "id": "QOAjDGiyqt0R",
        "outputId": "73a67a66-c19a-4951-d433-f3c27f2c9771"
      },
      "outputs": [
        {
          "data": {
            "text/plain": [
              "0.9486347791619845"
            ]
          },
          "execution_count": 105,
          "metadata": {},
          "output_type": "execute_result"
        }
      ],
      "source": [
        "eval =RegressionEvaluator(labelCol=\"sum(energy)\")\n",
        "r2 = eval.evaluate(pred,{eval.metricName:\"r2\"})\n",
        "r2"
      ]
    },
    {
      "cell_type": "markdown",
      "metadata": {
        "id": "F8qKarz9W9KP"
      },
      "source": [
        "### Ridge Regression "
      ]
    },
    {
      "cell_type": "code",
      "execution_count": null,
      "metadata": {
        "id": "-JvsPk1kX9hz"
      },
      "outputs": [],
      "source": [
        "from pyspark.ml.regression import LinearRegression\n",
        "# elasticnetparam = 0 --> ridge regression (L2 penalty )\n",
        "lr =LinearRegression( featuresCol='poly_features_scaled', labelCol='sum(energy)',elasticNetParam=0.0)"
      ]
    },
    {
      "cell_type": "code",
      "execution_count": null,
      "metadata": {
        "id": "xm3xmYuJYAN3"
      },
      "outputs": [],
      "source": [
        "pipeline = Pipeline(stages = [lr])"
      ]
    },
    {
      "cell_type": "code",
      "execution_count": null,
      "metadata": {
        "id": "RWb-1LL5YCYX"
      },
      "outputs": [],
      "source": [
        "pipeline.write().overwrite().save(\"pipeline\")\n",
        "pipelineModel = Pipeline.load(\"pipeline\")"
      ]
    },
    {
      "cell_type": "code",
      "execution_count": null,
      "metadata": {
        "id": "t3E0vRlYYE1T"
      },
      "outputs": [],
      "source": [
        "from pyspark.ml.evaluation import RegressionEvaluator\n",
        "evaluator = RegressionEvaluator(predictionCol='prediction', labelCol='sum(energy)', metricName='r2')"
      ]
    },
    {
      "cell_type": "code",
      "execution_count": null,
      "metadata": {
        "id": "qyesEFG3YINX"
      },
      "outputs": [],
      "source": [
        "# elasticNetParam = Param(parent='undefined', name='elasticNetParam', \n",
        "#doc='the ElasticNet mixing parameter, in range [0, 1]. For alpha = 0, \n",
        "#the penalty is an L2 penalty (ridge). For alpha = 1, it is an L1 penalty. (lasso)')\n",
        "from pyspark.ml.tuning import ParamGridBuilder\n",
        "paramGrid =  ParamGridBuilder().addGrid(poly.degree,[2]).addGrid(lr.regParam, [1,0.1,0.01,0.001,0.0001,0.00001]).build()"
      ]
    },
    {
      "cell_type": "code",
      "execution_count": null,
      "metadata": {
        "id": "nMpKlnwoYKKd"
      },
      "outputs": [],
      "source": [
        "crossval = CrossValidator(estimator=pipelineModel,\n",
        "                          estimatorParamMaps=paramGrid,\n",
        "                          evaluator=evaluator,\n",
        "                          numFolds=2 ,collectSubModels=True)"
      ]
    },
    {
      "cell_type": "code",
      "execution_count": null,
      "metadata": {
        "id": "6OPILLUMYQvy"
      },
      "outputs": [],
      "source": [
        "## fit model \n",
        "cvmodel = crossval.fit(df_train)"
      ]
    },
    {
      "cell_type": "code",
      "execution_count": null,
      "metadata": {
        "colab": {
          "base_uri": "https://localhost:8080/"
        },
        "id": "rqtUMIERQgbn",
        "outputId": "c975a84a-1506-426d-9368-e973b9b49a88"
      },
      "outputs": [
        {
          "data": {
            "text/plain": [
              "pyspark.ml.tuning.CrossValidatorModel"
            ]
          },
          "execution_count": 113,
          "metadata": {},
          "output_type": "execute_result"
        }
      ],
      "source": [
        "type(cvmodel)"
      ]
    },
    {
      "cell_type": "code",
      "execution_count": null,
      "metadata": {
        "id": "1HCVR45ZzgCr"
      },
      "outputs": [],
      "source": [
        "best_model = cvmodel.bestModel"
      ]
    },
    {
      "cell_type": "code",
      "execution_count": null,
      "metadata": {
        "colab": {
          "base_uri": "https://localhost:8080/"
        },
        "id": "Pg254cmvKXNI",
        "outputId": "1e7465de-fe9f-480c-ad48-a666a7e16f28"
      },
      "outputs": [
        {
          "data": {
            "text/plain": [
              "DenseVector([0.0841, 0.0841, 0.1176, 0.0, 0.1176, 0.1188, 0.0, 0.0, 0.1188, 0.092, 0.0, 0.0, 0.0, 0.092, 0.0078, 0.0, 0.0, 0.0, 0.0, 0.0078, -0.0257, 0.0, 0.0, 0.0, 0.0, 0.0, -0.0257, -0.1832, 0.0, 0.0, 0.0, 0.0, 0.0, 0.0, -0.1832, -0.2951, 0.0, 0.0, 0.0, 0.0, 0.0, 0.0, 0.0, -0.2951, -0.5871, 0.0, 0.0, 0.0, 0.0, 0.0, 0.0, 0.0, 0.0, -0.5871, -0.1321, 0.0, 0.0, 0.0, 0.0, 0.0, 0.0, 0.0, 0.0, 0.0, -0.1321, -0.093, 0.0, 0.0, 0.0, 0.0, 0.0, 0.0, 0.0, 0.0, 0.0, 0.0, -0.093, -0.0271, 0.0, 0.0, 0.0, 0.0, 0.0, 0.0, 0.0, 0.0, 0.0, 0.0, 0.0, -0.0271, -0.1818, 0.0, 0.0, 0.0, 0.0, 0.0, 0.0, 0.0, 0.0, 0.0, 0.0, 0.0, 0.0, -0.1818, -0.1185, 0.0, 0.0, 0.0, 0.0, 0.0, 0.0, 0.0, 0.0, 0.0, 0.0, 0.0, 0.0, 0.0, -0.1185, -0.149, 0.0, 0.0, 0.0, 0.0, 0.0, 0.0, 0.0, 0.0, 0.0, 0.0, 0.0, 0.0, 0.0, 0.0, -0.149, -0.3074, 0.0, 0.0, 0.0, 0.0, 0.0, 0.0, 0.0, 0.0, 0.0, 0.0, 0.0, 0.0, 0.0, 0.0, 0.0, -0.3074, -0.3717, 0.0, 0.0, 0.0, 0.0, 0.0, 0.0, 0.0, 0.0, 0.0, 0.0, 0.0, 0.0, 0.0, 0.0, 0.0, 0.0, -0.3717, -0.4549, 0.0, 0.0, 0.0, 0.0, 0.0, 0.0, 0.0, 0.0, 0.0, 0.0, 0.0, 0.0, 0.0, 0.0, 0.0, 0.0, 0.0, -0.4549, -0.466, 0.0, 0.0, 0.0, 0.0, 0.0, 0.0, 0.0, 0.0, 0.0, 0.0, 0.0, 0.0, 0.0, 0.0, 0.0, 0.0, 0.0, 0.0, -0.466, -0.3459, 0.0, 0.0, 0.0, 0.0, 0.0, 0.0, 0.0, 0.0, 0.0, 0.0, 0.0, 0.0, 0.0, 0.0, 0.0, 0.0, 0.0, 0.0, 0.0, -0.3459, -0.1044, 0.0, 0.0, 0.0, 0.0, 0.0, 0.0, 0.0, 0.0, 0.0, 0.0, 0.0, 0.0, 0.0, 0.0, 0.0, 0.0, 0.0, 0.0, 0.0, 0.0, -0.1044, -0.017, 0.0, 0.0, 0.0, 0.0, 0.0, 0.0, 0.0, 0.0, 0.0, 0.0, 0.0, 0.0, 0.0, 0.0, 0.0, 0.0, 0.0, 0.0, 0.0, 0.0, 0.0, -0.017, 0.0078, 0.0, 0.0, 0.0, 0.0, 0.0, 0.0, 0.0, 0.0, 0.0, 0.0, 0.0, 0.0, 0.0, 0.0, 0.0, 0.0, 0.0, 0.0, 0.0, 0.0, 0.0, 0.0, 0.0078, -0.641, 0.4318, 0.7109, 0.803, 0.7433, 0.7994, 0.7937, 0.779, 0.5436, 0.3529, 0.2893, 0.2431, 0.2232, 0.4605, 0.2962, 0.2177, 0.2694, 0.4429, 0.3412, 0.3136, -0.1666, -0.3669, -0.0612, -0.0315, 0.857, -0.9091, 0.0977, -0.2704, -0.4134, -0.3734, -0.2364, -0.2145, -0.7133, -0.5259, 0.3454, 0.5074, 0.5907, 0.4934, 0.7225, 0.5991, 0.6881, 0.6446, 0.5575, 0.9199, 1.089, 0.893, 0.5082, -0.0299, -0.0396, -0.5787, 1.1406, 0.2139, -0.2013, -0.1712, -0.1149, -0.0536, -0.013, 0.0357, 0.2167, 0.3198, 0.2364, -0.1564, -0.3769, -0.4929, -0.4408, -0.4064, -0.3376, -0.3605, -0.3493, -0.3625, -0.3103, -0.0993, 0.0057, 0.1017, 0.0344, 0.4292, -0.4506, 0.2139, 0.2531, 0.0841, 0.1176, 0.1188, 0.092, 0.0568, 0.0818, 0.0, 0.0, 0.0, 0.0, 0.0, 0.0, 0.0, 0.0, 0.0, 0.0, 0.0, 0.0, 0.0, 0.0, 0.0, 0.0, 0.0, -0.1294, -1.6806, 0.1636, 0.2531, 0.2864, 0.0, 0.0, 0.0, 0.0, -0.1212, -0.1627, 0.4804, 0.6654, 0.6033, -0.1321, -0.093, -0.0271, -0.1818, -0.1185, -0.149, 0.1366, 0.166, -0.0297, -0.1676, -0.0347, 0.0, 0.0, 0.0, 0.0558, -1.3705, 0.0967, 0.0, 0.2864, 13.2471, -0.5529, -1.0302, -1.2297, -1.2864, -1.2806, -1.2602, -1.2455, -0.5402, 0.1022, 0.375, 0.4613, 0.4834, 0.4299, 0.4961, 0.6324, 0.5722, 0.5089, 1.0435, 1.5592, 2.0609, 1.914, 1.6469, 0.9875, -3.4602, 2.3969, -0.5336, -0.8807, -0.5154, -4.5599])"
            ]
          },
          "execution_count": 115,
          "metadata": {},
          "output_type": "execute_result"
        }
      ],
      "source": [
        "best_model.stages[0].coefficients"
      ]
    },
    {
      "cell_type": "code",
      "execution_count": null,
      "metadata": {
        "colab": {
          "base_uri": "https://localhost:8080/"
        },
        "id": "r7NNP_awhl8q",
        "outputId": "e3fb102c-5b8c-497f-9e6f-0a2dce227a72"
      },
      "outputs": [
        {
          "data": {
            "text/plain": [
              "[0.9285585312029696,\n",
              " 0.9473718181120689,\n",
              " 0.9505694744845054,\n",
              " 0.9507604696721048,\n",
              " 0.9507538815446994,\n",
              " 0.9507524744392981]"
            ]
          },
          "execution_count": 116,
          "metadata": {},
          "output_type": "execute_result"
        }
      ],
      "source": [
        "cvmodel.avgMetrics"
      ]
    },
    {
      "cell_type": "code",
      "execution_count": null,
      "metadata": {
        "id": "iw8iIqcSitOP"
      },
      "outputs": [],
      "source": [
        "alphas = [1,0.1,0.01,0.001,0.0001,0.00001]"
      ]
    },
    {
      "cell_type": "code",
      "execution_count": null,
      "metadata": {
        "colab": {
          "base_uri": "https://localhost:8080/",
          "height": 283
        },
        "id": "KFAkJIQ3i3Na",
        "outputId": "6fa42d9e-b6d5-4f3a-819b-add8def26e2e"
      },
      "outputs": [
        {
          "data": {
            "application/javascript": [
              "\n",
              "    async function download(id, filename, size) {\n",
              "      if (!google.colab.kernel.accessAllowed) {\n",
              "        return;\n",
              "      }\n",
              "      const div = document.createElement('div');\n",
              "      const label = document.createElement('label');\n",
              "      label.textContent = `Downloading \"${filename}\": `;\n",
              "      div.appendChild(label);\n",
              "      const progress = document.createElement('progress');\n",
              "      progress.max = size;\n",
              "      div.appendChild(progress);\n",
              "      document.body.appendChild(div);\n",
              "\n",
              "      const buffers = [];\n",
              "      let downloaded = 0;\n",
              "\n",
              "      const channel = await google.colab.kernel.comms.open(id);\n",
              "      // Send a message to notify the kernel that we're ready.\n",
              "      channel.send({})\n",
              "\n",
              "      for await (const message of channel.messages) {\n",
              "        // Send a message to notify the kernel that we're ready.\n",
              "        channel.send({})\n",
              "        if (message.buffers) {\n",
              "          for (const buffer of message.buffers) {\n",
              "            buffers.push(buffer);\n",
              "            downloaded += buffer.byteLength;\n",
              "            progress.value = downloaded;\n",
              "          }\n",
              "        }\n",
              "      }\n",
              "      const blob = new Blob(buffers, {type: 'application/binary'});\n",
              "      const a = document.createElement('a');\n",
              "      a.href = window.URL.createObjectURL(blob);\n",
              "      a.download = filename;\n",
              "      div.appendChild(a);\n",
              "      a.click();\n",
              "      div.remove();\n",
              "    }\n",
              "  "
            ],
            "text/plain": [
              "<IPython.core.display.Javascript object>"
            ]
          },
          "metadata": {},
          "output_type": "display_data"
        },
        {
          "data": {
            "application/javascript": [
              "download(\"download_afe32a1c-953c-492b-87f3-a54a7e17065c\", \"ridge.png\", 10958)"
            ],
            "text/plain": [
              "<IPython.core.display.Javascript object>"
            ]
          },
          "metadata": {},
          "output_type": "display_data"
        },
        {
          "data": {
            "image/png": "[encoded data removed]",
            "text/plain": [
              "<Figure size 432x288 with 1 Axes>"
            ]
          },
          "metadata": {},
          "output_type": "display_data"
        }
      ],
      "source": [
        "import pandas as pd \n",
        "import numpy as np \n",
        "import seaborn as sb \n",
        "%matplotlib inline\n",
        "import matplotlib.pyplot as plt \n",
        "plt.xscale('log')\n",
        "plt.xlabel(\"Alpha\" ,fontsize = 10 )\n",
        "plt.ylabel(\"R2 Metric\" ,fontsize = 10 )\n",
        "plt.xticks(fontsize = 10 ,fontweight= 500 )\n",
        "plt.yticks(fontsize = 10,fontweight= 500) \n",
        "#ax = figure.add_subplot(111)\n",
        "plt.plot(alphas ,cvmodel.avgMetrics , '-o')\n",
        "from google.colab import files\n",
        "plt.savefig(\"ridge.png\")\n",
        "files.download(\"ridge.png\") "
      ]
    },
    {
      "cell_type": "code",
      "execution_count": null,
      "metadata": {
        "colab": {
          "base_uri": "https://localhost:8080/"
        },
        "id": "ZbwSNHNFzlG0",
        "outputId": "914d078d-2f84-48ed-b7b5-eee2c5adb84e"
      },
      "outputs": [
        {
          "name": "stdout",
          "output_type": "stream",
          "text": [
            "{Param(parent='PolynomialExpansion_554bb670a99b', name='degree', doc='the polynomial degree to expand (>= 1)'): 2, Param(parent='LinearRegression_a828ef852362', name='regParam', doc='regularization parameter (>= 0).'): 0.001}\n"
          ]
        }
      ],
      "source": [
        "print(cvmodel.getEstimatorParamMaps()[np.argmax(cvmodel.avgMetrics)])"
      ]
    },
    {
      "cell_type": "markdown",
      "metadata": {
        "id": "SHou77SyrNgl"
      },
      "source": [
        "## Evaluating dToU for Low Tariff:  "
      ]
    },
    {
      "cell_type": "code",
      "execution_count": null,
      "metadata": {
        "id": "8WhDR35ZKcqJ"
      },
      "outputs": [],
      "source": [
        "df_low_tariff = df_low_tariff.na.drop()"
      ]
    },
    {
      "cell_type": "code",
      "execution_count": null,
      "metadata": {
        "colab": {
          "base_uri": "https://localhost:8080/"
        },
        "id": "aIvU1epI9jXF",
        "outputId": "7131d70d-3ccc-4e05-d5cf-6253fac585d1"
      },
      "outputs": [
        {
          "name": "stdout",
          "output_type": "stream",
          "text": [
            "+------------------+------+-------------------+------------+---------+-----------+--------+-----+--------+\n",
            "|       sum(energy)|Tariff|     TariffDateTime|count(LCLid)|day_night|temperature|humidity|hour2|week_end|\n",
            "+------------------+------+-------------------+------------+---------+-----------+--------+-----+--------+\n",
            "| 9.243999872356653|   Low|2013-02-21 03:00:00|          45|        0|       1.29|    0.63|    3|       0|\n",
            "|10.618000095710158|   Low|2013-09-13 13:00:00|          42|        1|      17.16|    0.92|   13|       0|\n",
            "+------------------+------+-------------------+------------+---------+-----------+--------+-----+--------+\n",
            "only showing top 2 rows\n",
            "\n"
          ]
        }
      ],
      "source": [
        "df_low_tariff.show(2)"
      ]
    },
    {
      "cell_type": "code",
      "execution_count": null,
      "metadata": {
        "colab": {
          "base_uri": "https://localhost:8080/"
        },
        "id": "5ew0b3M89mGF",
        "outputId": "5856f9a0-65ec-4fb6-e623-50e98ea297bb"
      },
      "outputs": [
        {
          "ename": "NameError",
          "evalue": "ignored",
          "output_type": "error",
          "traceback": [
            "\u001b[0;31m---------------------------------------------------------------------------\u001b[0m",
            "\u001b[0;31mNameError\u001b[0m                                 Traceback (most recent call last)",
            "\u001b[0;32m<ipython-input-1-a515bdad127c>\u001b[0m in \u001b[0;36m<module>\u001b[0;34m()\u001b[0m\n\u001b[0;32m----> 1\u001b[0;31m \u001b[0mdf_low_tariff\u001b[0m\u001b[0;34m.\u001b[0m\u001b[0mcount\u001b[0m\u001b[0;34m(\u001b[0m\u001b[0;34m)\u001b[0m\u001b[0;34m\u001b[0m\u001b[0;34m\u001b[0m\u001b[0m\n\u001b[0m",
            "\u001b[0;31mNameError\u001b[0m: name 'df_low_tariff' is not defined"
          ]
        }
      ],
      "source": [
        "df_low_tariff.count()"
      ]
    },
    {
      "cell_type": "code",
      "execution_count": null,
      "metadata": {
        "id": "1Kvg-ti-9opo"
      },
      "outputs": [],
      "source": [
        "from pyspark.ml.feature import OneHotEncoder\n",
        "stages = []\n",
        "column_list = ['hour2' ,'week_end','day_night']\n",
        "for column in column_list :\n",
        "  encoder = OneHotEncoder(inputCol=column, outputCol=column+\"_encoded\")\n",
        "  stages.append(encoder)\n",
        "pipeline = Pipeline(stages = stages )\n",
        "df_encoded_low_tariff = pipeline.fit(df_low_tariff).transform(df_low_tariff)  "
      ]
    },
    {
      "cell_type": "code",
      "execution_count": null,
      "metadata": {
        "colab": {
          "base_uri": "https://localhost:8080/"
        },
        "id": "jNvvhOZA98XN",
        "outputId": "1a8f6831-a2ee-4c61-e9ee-8a4f4eab19cd"
      },
      "outputs": [
        {
          "name": "stdout",
          "output_type": "stream",
          "text": [
            "+------------------+------+-------------------+------------+---------+-----------+--------+-----+--------+---------------+----------------+-----------------+--------------------+\n",
            "|       sum(energy)|Tariff|     TariffDateTime|count(LCLid)|day_night|temperature|humidity|hour2|week_end|  hour2_encoded|week_end_encoded|day_night_encoded|     features_vector|\n",
            "+------------------+------+-------------------+------------+---------+-----------+--------+-----+--------+---------------+----------------+-----------------+--------------------+\n",
            "| 9.243999872356653|   Low|2013-02-21 03:00:00|          45|        0|       1.29|    0.63|    3|       0| (23,[3],[1.0])|   (1,[0],[1.0])|    (2,[0],[1.0])|(29,[3,23,24,25,2...|\n",
            "|10.618000095710158|   Low|2013-09-13 13:00:00|          42|        1|      17.16|    0.92|   13|       0|(23,[13],[1.0])|   (1,[0],[1.0])|    (2,[1],[1.0])|(29,[13,23,24,25,...|\n",
            "|12.554000040516257|   Low|2013-11-26 15:00:00|          44|        1|       7.23|    0.64|   15|       0|(23,[15],[1.0])|   (1,[0],[1.0])|    (2,[1],[1.0])|(29,[15,23,24,25,...|\n",
            "+------------------+------+-------------------+------------+---------+-----------+--------+-----+--------+---------------+----------------+-----------------+--------------------+\n",
            "only showing top 3 rows\n",
            "\n"
          ]
        }
      ],
      "source": [
        "from pyspark.ml.linalg import Vectors\n",
        "from pyspark.ml.feature import VectorAssembler\n",
        "vector_assembler = VectorAssembler(inputCols = ['hour2_encoded','temperature' ,'humidity','week_end_encoded','day_night_encoded','count(LCLid)'] \n",
        "                                   ,outputCol = 'features_vector')\n",
        "df_encoded_low_tariff = vector_assembler.transform(df_encoded_low_tariff)\n",
        "df_encoded_low_tariff.show(3)"
      ]
    },
    {
      "cell_type": "code",
      "execution_count": null,
      "metadata": {
        "id": "mB7xM3W--I1s"
      },
      "outputs": [],
      "source": [
        "from pyspark.ml import Pipeline\n",
        "# expansion parameters \n",
        "from pyspark.ml.feature import PolynomialExpansion\n",
        "poly = PolynomialExpansion(inputCol='features_vector', outputCol='poly_features')\n",
        "df_encoded_low_tariff = poly.transform(df_encoded_low_tariff)"
      ]
    },
    {
      "cell_type": "code",
      "execution_count": null,
      "metadata": {
        "id": "m-pHbkbj-Ucy"
      },
      "outputs": [],
      "source": [
        "ss = StandardScaler(withMean=True, withStd=True, inputCol='poly_features' , outputCol='poly_features_scaled')"
      ]
    },
    {
      "cell_type": "code",
      "execution_count": null,
      "metadata": {
        "id": "hP0w6x3C-bo8"
      },
      "outputs": [],
      "source": [
        "df_encoded_low_tariff = ss.fit(df_encoded_low_tariff).transform(df_encoded_low_tariff)"
      ]
    },
    {
      "cell_type": "code",
      "execution_count": null,
      "metadata": {
        "colab": {
          "base_uri": "https://localhost:8080/"
        },
        "id": "jboIZjXp-hak",
        "outputId": "5c001206-ce9b-44ca-b413-10e218b3423c"
      },
      "outputs": [
        {
          "name": "stdout",
          "output_type": "stream",
          "text": [
            "+------------------+------+-------------------+------------+---------+-----------+--------+-----+--------+---------------+----------------+-----------------+--------------------+--------------------+--------------------+\n",
            "|       sum(energy)|Tariff|     TariffDateTime|count(LCLid)|day_night|temperature|humidity|hour2|week_end|  hour2_encoded|week_end_encoded|day_night_encoded|     features_vector|       poly_features|poly_features_scaled|\n",
            "+------------------+------+-------------------+------------+---------+-----------+--------+-----+--------+---------------+----------------+-----------------+--------------------+--------------------+--------------------+\n",
            "| 9.243999872356653|   Low|2013-02-21 03:00:00|          45|        0|       1.29|    0.63|    3|       0| (23,[3],[1.0])|   (1,[0],[1.0])|    (2,[0],[1.0])|(29,[3,23,24,25,2...|(464,[9,13,299,30...|[-0.2220530081768...|\n",
            "|10.618000095710158|   Low|2013-09-13 13:00:00|          42|        1|      17.16|    0.92|   13|       0|(23,[13],[1.0])|   (1,[0],[1.0])|    (2,[1],[1.0])|(29,[13,23,24,25,...|(464,[104,118,299...|[-0.2220530081768...|\n",
            "+------------------+------+-------------------+------------+---------+-----------+--------+-----+--------+---------------+----------------+-----------------+--------------------+--------------------+--------------------+\n",
            "only showing top 2 rows\n",
            "\n"
          ]
        }
      ],
      "source": [
        "df_encoded_low_tariff.show(2)"
      ]
    },
    {
      "cell_type": "code",
      "execution_count": null,
      "metadata": {
        "id": "rgmntLI0AlqJ"
      },
      "outputs": [],
      "source": [
        "predictions_low_block34 = cvmodel.transform(df_encoded_low_tariff)"
      ]
    },
    {
      "cell_type": "code",
      "execution_count": null,
      "metadata": {
        "colab": {
          "base_uri": "https://localhost:8080/"
        },
        "id": "01_BL_QzBK3k",
        "outputId": "c36a5120-55af-4481-ebe4-21216e95cb60"
      },
      "outputs": [
        {
          "data": {
            "text/plain": [
              "-0.019261404109941038"
            ]
          },
          "execution_count": 134,
          "metadata": {},
          "output_type": "execute_result"
        }
      ],
      "source": [
        "# r2 \n",
        "eval =RegressionEvaluator(labelCol=\"sum(energy)\")\n",
        "r2 = eval.evaluate(predictions_low_block34,{eval.metricName:\"r2\"})\n",
        "r2"
      ]
    },
    {
      "cell_type": "code",
      "execution_count": null,
      "metadata": {
        "colab": {
          "base_uri": "https://localhost:8080/"
        },
        "id": "S7Ca8kjpA8WN",
        "outputId": "8dab93bf-ebc9-4cbf-f055-d79140c01629"
      },
      "outputs": [
        {
          "name": "stdout",
          "output_type": "stream",
          "text": [
            "+------------------+------+-------------------+------------+---------+-----------+--------+-----+--------+---------------+----------------+-----------------+--------------------+--------------------+--------------------+------------------+\n",
            "|       sum(energy)|Tariff|     TariffDateTime|count(LCLid)|day_night|temperature|humidity|hour2|week_end|  hour2_encoded|week_end_encoded|day_night_encoded|     features_vector|       poly_features|poly_features_scaled|        prediction|\n",
            "+------------------+------+-------------------+------------+---------+-----------+--------+-----+--------+---------------+----------------+-----------------+--------------------+--------------------+--------------------+------------------+\n",
            "| 9.243999872356653|   Low|2013-02-21 03:00:00|          45|        0|       1.29|    0.63|    3|       0| (23,[3],[1.0])|   (1,[0],[1.0])|    (2,[0],[1.0])|(29,[3,23,24,25,2...|(464,[9,13,299,30...|[-0.2220530081768...| 5.918123556878835|\n",
            "|10.618000095710158|   Low|2013-09-13 13:00:00|          42|        1|      17.16|    0.92|   13|       0|(23,[13],[1.0])|   (1,[0],[1.0])|    (2,[1],[1.0])|(29,[13,23,24,25,...|(464,[104,118,299...|[-0.2220530081768...|-4.231018481557891|\n",
            "+------------------+------+-------------------+------------+---------+-----------+--------+-----+--------+---------------+----------------+-----------------+--------------------+--------------------+--------------------+------------------+\n",
            "only showing top 2 rows\n",
            "\n"
          ]
        }
      ],
      "source": [
        "predictions_low_block34.show(2)"
      ]
    },
    {
      "cell_type": "code",
      "execution_count": null,
      "metadata": {
        "id": "hYZqRfRQBoC5"
      },
      "outputs": [],
      "source": [
        "predictions_low_pandas_block34= predictions_low_block34.toPandas()"
      ]
    },
    {
      "cell_type": "code",
      "execution_count": null,
      "metadata": {
        "id": "lrFJslXzCYNs"
      },
      "outputs": [],
      "source": [
        "predictions_low_pandas_block34.to_csv(\"/content/drive/MyDrive/predictions_low_block34.csv\")"
      ]
    },
    {
      "cell_type": "markdown",
      "metadata": {
        "id": "-HB9ZMRY-v3i"
      },
      "source": [
        "\n",
        "\n",
        "```\n",
        "# This is formatted as code\n",
        "```\n",
        "\n",
        "## Evaluating dToU for High Tariff:  "
      ]
    },
    {
      "cell_type": "code",
      "execution_count": null,
      "metadata": {
        "id": "aaNoz_ow-urS"
      },
      "outputs": [],
      "source": [
        "df_high_tariff = df_high_tariff.na.drop()"
      ]
    },
    {
      "cell_type": "code",
      "execution_count": null,
      "metadata": {
        "colab": {
          "base_uri": "https://localhost:8080/"
        },
        "id": "1YkEMTaO8RZs",
        "outputId": "8fabeadf-78e4-4f25-c964-9d39b867f2d6"
      },
      "outputs": [
        {
          "data": {
            "text/plain": [
              "394"
            ]
          },
          "execution_count": 139,
          "metadata": {},
          "output_type": "execute_result"
        }
      ],
      "source": [
        "df_high_tariff.count()"
      ]
    },
    {
      "cell_type": "code",
      "execution_count": null,
      "metadata": {
        "colab": {
          "base_uri": "https://localhost:8080/"
        },
        "id": "7N3dCXXeC3dK",
        "outputId": "880483a5-8028-492e-b171-4ae3cf54ce7c"
      },
      "outputs": [
        {
          "name": "stdout",
          "output_type": "stream",
          "text": [
            "+------------------+------+-------------------+------------+---------+-----------+--------+-----+--------+\n",
            "|       sum(energy)|Tariff|     TariffDateTime|count(LCLid)|day_night|temperature|humidity|hour2|week_end|\n",
            "+------------------+------+-------------------+------------+---------+-----------+--------+-----+--------+\n",
            "| 8.450999953784049|  High|2013-06-17 11:00:00|          46|        1|      17.54|    0.61|   11|       0|\n",
            "|17.120000015944242|  High|2013-12-15 20:00:00|          44|        2|      12.42|    0.91|   20|       1|\n",
            "+------------------+------+-------------------+------------+---------+-----------+--------+-----+--------+\n",
            "only showing top 2 rows\n",
            "\n"
          ]
        }
      ],
      "source": [
        "df_high_tariff.show(2)"
      ]
    },
    {
      "cell_type": "code",
      "execution_count": null,
      "metadata": {
        "id": "V7O7XxL98Rev"
      },
      "outputs": [],
      "source": [
        "from pyspark.ml.feature import OneHotEncoder\n",
        "stages = []\n",
        "column_list = ['hour2' ,'week_end','day_night']\n",
        "for column in column_list :\n",
        "  encoder = OneHotEncoder(inputCol=column, outputCol=column+\"_encoded\")\n",
        "  stages.append(encoder)\n",
        "pipeline = Pipeline(stages = stages )\n",
        "df_encoded_high_tariff = pipeline.fit(df_high_tariff).transform(df_high_tariff) "
      ]
    },
    {
      "cell_type": "code",
      "execution_count": null,
      "metadata": {
        "colab": {
          "base_uri": "https://localhost:8080/"
        },
        "id": "fdNErXre5y-7",
        "outputId": "f798c720-8b7c-4c91-e1d4-0954ac010030"
      },
      "outputs": [
        {
          "name": "stdout",
          "output_type": "stream",
          "text": [
            "+------------------+------+-------------------+------------+---------+-----------+--------+-----+--------+---------------+----------------+-----------------+--------------------+\n",
            "|       sum(energy)|Tariff|     TariffDateTime|count(LCLid)|day_night|temperature|humidity|hour2|week_end|  hour2_encoded|week_end_encoded|day_night_encoded|     features_vector|\n",
            "+------------------+------+-------------------+------------+---------+-----------+--------+-----+--------+---------------+----------------+-----------------+--------------------+\n",
            "| 8.450999953784049|  High|2013-06-17 11:00:00|          46|        1|      17.54|    0.61|   11|       0|(23,[11],[1.0])|   (1,[0],[1.0])|    (2,[1],[1.0])|(29,[11,23,24,25,...|\n",
            "|17.120000015944242|  High|2013-12-15 20:00:00|          44|        2|      12.42|    0.91|   20|       1|(23,[20],[1.0])|       (1,[],[])|        (2,[],[])|(29,[20,23,24,28]...|\n",
            "|18.276000071316957|  High|2013-12-27 22:00:00|          44|        2|       7.47|    0.73|   22|       0|(23,[22],[1.0])|   (1,[0],[1.0])|        (2,[],[])|(29,[22,23,24,25,...|\n",
            "+------------------+------+-------------------+------------+---------+-----------+--------+-----+--------+---------------+----------------+-----------------+--------------------+\n",
            "only showing top 3 rows\n",
            "\n"
          ]
        }
      ],
      "source": [
        "from pyspark.ml.linalg import Vectors\n",
        "from pyspark.ml.feature import VectorAssembler\n",
        "vector_assembler = VectorAssembler(inputCols = ['hour2_encoded','temperature' ,'humidity','week_end_encoded','day_night_encoded','count(LCLid)'] \n",
        "                                   ,outputCol = 'features_vector')\n",
        "df_encoded_high_tariff = vector_assembler.transform(df_encoded_high_tariff)\n",
        "df_encoded_high_tariff.show(3)"
      ]
    },
    {
      "cell_type": "code",
      "execution_count": null,
      "metadata": {
        "id": "2NKGj40w_KVi"
      },
      "outputs": [],
      "source": [
        "from pyspark.ml import Pipeline\n",
        "# expansion parameters \n",
        "from pyspark.ml.feature import PolynomialExpansion\n",
        "poly = PolynomialExpansion(inputCol='features_vector', outputCol='poly_features')\n",
        "df_encoded_high_tariff = poly.transform(df_encoded_high_tariff)"
      ]
    },
    {
      "cell_type": "code",
      "execution_count": null,
      "metadata": {
        "id": "g01WVXqP_NuD"
      },
      "outputs": [],
      "source": [
        "ss = StandardScaler(withMean=True, withStd=True, inputCol='poly_features' , outputCol='poly_features_scaled')"
      ]
    },
    {
      "cell_type": "code",
      "execution_count": null,
      "metadata": {
        "id": "hl9MdDzU_VTQ"
      },
      "outputs": [],
      "source": [
        "df_encoded_high_tariff = ss.fit(df_encoded_high_tariff).transform(df_encoded_high_tariff)"
      ]
    },
    {
      "cell_type": "code",
      "execution_count": null,
      "metadata": {
        "colab": {
          "base_uri": "https://localhost:8080/"
        },
        "id": "nZEF_896_aa_",
        "outputId": "ca2209f7-ecd9-4d23-a60d-33403e136b5c"
      },
      "outputs": [
        {
          "name": "stdout",
          "output_type": "stream",
          "text": [
            "+------------------+------+-------------------+------------+---------+-----------+--------+-----+--------+---------------+----------------+-----------------+--------------------+--------------------+--------------------+\n",
            "|       sum(energy)|Tariff|     TariffDateTime|count(LCLid)|day_night|temperature|humidity|hour2|week_end|  hour2_encoded|week_end_encoded|day_night_encoded|     features_vector|       poly_features|poly_features_scaled|\n",
            "+------------------+------+-------------------+------------+---------+-----------+--------+-----+--------+---------------+----------------+-----------------+--------------------+--------------------+--------------------+\n",
            "| 8.450999953784049|  High|2013-06-17 11:00:00|          46|        1|      17.54|    0.61|   11|       0|(23,[11],[1.0])|   (1,[0],[1.0])|    (2,[1],[1.0])|(29,[11,23,24,25,...|(464,[77,89,299,3...|[-0.1527000060419...|\n",
            "|17.120000015944242|  High|2013-12-15 20:00:00|          44|        2|      12.42|    0.91|   20|       1|(23,[20],[1.0])|       (1,[],[])|        (2,[],[])|(29,[20,23,24,28]...|(464,[230,251,299...|[-0.1527000060419...|\n",
            "+------------------+------+-------------------+------------+---------+-----------+--------+-----+--------+---------------+----------------+-----------------+--------------------+--------------------+--------------------+\n",
            "only showing top 2 rows\n",
            "\n"
          ]
        }
      ],
      "source": [
        "df_encoded_high_tariff.show(2)"
      ]
    },
    {
      "cell_type": "code",
      "execution_count": null,
      "metadata": {
        "id": "7yqcg3hPDEim"
      },
      "outputs": [],
      "source": [
        "predictions_high_block34 = cvmodel.transform(df_encoded_high_tariff)"
      ]
    },
    {
      "cell_type": "code",
      "execution_count": null,
      "metadata": {
        "colab": {
          "base_uri": "https://localhost:8080/"
        },
        "id": "bs38MuvbEH5Y",
        "outputId": "830689cd-7ea0-49dc-bd35-18bbffba0d40"
      },
      "outputs": [
        {
          "data": {
            "text/plain": [
              "-0.03638424251754535"
            ]
          },
          "execution_count": 178,
          "metadata": {},
          "output_type": "execute_result"
        }
      ],
      "source": [
        "# r2 \n",
        "eval =RegressionEvaluator(labelCol=\"sum(energy)\")\n",
        "r2 = eval.evaluate(predictions_high_block34,{eval.metricName:\"r2\"})\n",
        "r2"
      ]
    },
    {
      "cell_type": "code",
      "execution_count": null,
      "metadata": {
        "id": "ROy1MY6-r3kX"
      },
      "outputs": [],
      "source": [
        "predictions_high_pandas_block34= predictions_high_block34.toPandas()"
      ]
    },
    {
      "cell_type": "code",
      "execution_count": null,
      "metadata": {
        "id": "BA2y2r_vEcA-"
      },
      "outputs": [],
      "source": [
        "predictions_high_pandas_block34.to_csv(\"/content/drive/MyDrive/predictions_high_block34.csv\")"
      ]
    },
    {
      "cell_type": "code",
      "execution_count": null,
      "metadata": {
        "id": "t1SaK8S6Yc34"
      },
      "outputs": [],
      "source": []
    }
  ],
  "metadata": {
    "accelerator": "GPU",
    "colab": {
      "collapsed_sections": [],
      "provenance": []
    },
    "kernelspec": {
      "display_name": "Python 3",
      "name": "python3"
    },
    "language_info": {
      "name": "python"
    }
  },
  "nbformat": 4,
  "nbformat_minor": 0
}